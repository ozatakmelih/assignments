{
 "cells": [
  {
   "cell_type": "markdown",
   "id": "3a7cba89",
   "metadata": {
    "deletable": false,
    "editable": false
   },
   "source": [
    "<a href=\"https://ondiande.com/contact/\"><img align=\"center\" src=\"https://i.ibb.co/B43qn24/officially-licensed-logo.png\" alt=\"ONDIA Contact\" width=\"110\" height=\"200\" title=\"This notebook is licensed by ONDIA. Please contact the authorized persons about the conditions under which you can use or share.\"></a>"
   ]
  },
  {
   "cell_type": "markdown",
   "id": "2144db3d",
   "metadata": {},
   "source": [
    "<hr>\n",
    "\n",
    "<a href=\"https://lms.clarusway.com/mod/lesson/view.php?id=2463&pageid=4531&startlastseen=no\"><img align=\"center\" src=\"https://i.ibb.co/6Z5pQxD/lmss.png\" alt=\"Open in Clarusway LMS\" width=\"70\" height=\"200\" title=\"Open Clarusway Learning Management Sytem\"></a>\n",
    "\n",
    "<a href=\"https://github.com/clarusway/DS-DE-0322-Students/blob/main/3-%20Classes%26Labs/2-DAwPY/DAwPy_S01_(Numpy_Arrays).ipynb\"><img align=\"left\" src=\"https://i.ibb.co/n3HWyQX/github-logo.png\" alt=\"Open in Clarusway GitHub\" width=\"90\" height=\"150\" title=\"Open and Execute in Clarusway GitHub Repository\"></a>\n",
    "\n",
    "<a href=\"https://nbviewer.org/github/4dsolutions/clarusway_data_analysis/blob/main/DAwPy_S1_%28Numpy_Arrays%29/DAwPy_S1_%28Numpy_Arrays%29.ipynb\"><img align=\"right\" src=\"https://i.ibb.co/48wtV8c/nbviewer-badge.png\" alt=\"Open in nbviewer\" width=\"100\" height=\"100\" title=\"Open and Execute in nbviewer\"></a><br/>\n",
    "\n",
    "<hr>\n",
    "\n",
    "<p style=\"text-align: center;\"><img src=\"https://i.ibb.co/XS0bxSH/best-bootcamps.png\" width=\"300\" height=\"200\" class=\"img-fluid\" alt=\"Best Bootcamp Batches\"></p>\n",
    "\n",
    "<br>\n",
    "\n",
    "<p style=\"text-align: center;\"><img src=\"https://i.ibb.co/Rpz9L36/clarusway-logo-black.png\" width=\"500\" height=\"200\" class=\"img-fluid\" alt=\"CLRSWY_LOGO\"></p>\n",
    "\n",
    "\n",
    "<p style=\"background-color:#E51A59; font-family:newtimeroman; color:#FDFEFE; font-size:130%; text-align:center; border-radius:10px 10px;\">WAY TO REINVENT YOURSELF</p>\n",
    "\n",
    "<br>\n",
    "\n",
    "<img src=https://i.ibb.co/HgnTPh9/stats.png width=\"500\" height=\"200\">\n",
    "\n",
    "<img src=https://i.ibb.co/Z8XGZ1b/case-study.jpg width=\"250\" height=\"200\">\n",
    "\n",
    "\n",
    "<!-- ![Image_Assignment](https://i.ibb.co/Z8XGZ1b/case-study.jpg) -->\n",
    "\n",
    "## <p style=\"background-color:#FDFEFE; font-family:newtimeroman; color:#4d77cf; font-size:175%; text-align:center; border-radius:10px 10px;\">Cardiovascular Disease</p>"
   ]
  },
  {
   "cell_type": "markdown",
   "id": "u3DMViJN2znV",
   "metadata": {
    "id": "u3DMViJN2znV"
   },
   "source": [
    "## <p style=\"background-color:#58B8E4; font-family:newtimeroman; color:#FFF9ED; font-size:175%; text-align:center; border-radius:10px 10px;\">About Cardiovascular Disease Dataset & Analysis</p>\n",
    "\n",
    "In this study, a dataset on Cardiovascular Disease will be analysed. The analysis will cover the following concepts:\n",
    "  - true means,\n",
    "  - confidence intervals,\n",
    "  - one sample t test,\n",
    "  - independent samples t test,\n",
    "  - homogenity of variance check (Levene's test),\n",
    "  - One-way ANOVA,\n",
    "  - Chi-square test.\n",
    "\n",
    "### <u>Data description:</u> \n",
    "\n",
    "The dataset consists of 70000 records of patients, 11 features, and a target variable.\n",
    "\n",
    "``There are 3 types of input features:``\n",
    "\n",
    "  - **``Objective``**: factual information;\n",
    "  - **``Examination``**: results of medical examination;\n",
    "  - **``Subjective``**: information given by the patient.\n",
    "\n",
    "Features:\n",
    "\n",
    "  - **``Age``** | Objective Feature | age | int (days)\n",
    "  - **``Height``** | Objective Feature | height | int (cm) |\n",
    "  - **``Weight``** | Objective Feature | weight | float (kg) |\n",
    "  - **``Gender``** | Objective Feature | gender | categorical code |\n",
    "  - **``Systolic blood pressure``** | Examination Feature | ap_hi | int |\n",
    "  - **``Diastolic blood pressure``** | Examination Feature | ap_lo | int |\n",
    "  - **``Cholesterol``** | Examination Feature | cholesterol | 1: normal, 2: above normal, 3: well above normal |\n",
    "  - **``Glucose``** | Examination Feature | gluc | 1: normal, 2: above normal, 3: well above normal |\n",
    "  - **``Smoking``** | Subjective Feature | smoke | binary |\n",
    "  - **``Alcohol intake``** | Subjective Feature | alco | binary |\n",
    "  - **``Physical activity``** | Subjective Feature | active | binary |\n",
    "  - **``Presence or absence of cardiovascular disease``** | Target Variable | cardio | binary |\n",
    "\n",
    "All of the records in the dataset were collected at the moment of medical examination.\n",
    "\n",
    "**For more information about [Dataset Source & Discussions on it](https://www.kaggle.com/datasets/sulianova/cardiovascular-disease-dataset)**"
   ]
  },
  {
   "cell_type": "markdown",
   "id": "ce8088f5",
   "metadata": {
    "id": "ce8088f5"
   },
   "source": [
    "## <p style=\"background-color:#58B8E4; font-family:newtimeroman; color:#FFF9ED; font-size:175%; text-align:center; border-radius:10px 10px;\">Data Preparation</p>"
   ]
  },
  {
   "cell_type": "markdown",
   "id": "c5e829d7",
   "metadata": {
    "id": "c5e829d7"
   },
   "source": [
    " ### ⭐ <span style=\"color:#49519E\">1. Import pandas, scipy.stats, seaborn, and matplotlib.pyplot libraries:<span>"
   ]
  },
  {
   "cell_type": "code",
   "execution_count": 278,
   "id": "90360b45",
   "metadata": {},
   "outputs": [],
   "source": [
    "import pandas as pd\n",
    "import numpy as np\n",
    "from scipy import stats\n",
    "import seaborn as sns\n",
    "import matplotlib.pyplot as plt\n",
    "%matplotlib inline\n",
    "\n",
    "import warnings\n",
    "warnings.filterwarnings(\"ignore\")"
   ]
  },
  {
   "cell_type": "markdown",
   "id": "2f34563e",
   "metadata": {},
   "source": [
    " ### ⭐ <span style=\"color:#49519E\">2. Read and assign the Dataset to ``df``:<span>"
   ]
  },
  {
   "cell_type": "code",
   "execution_count": 281,
   "id": "2cf4cb25",
   "metadata": {},
   "outputs": [],
   "source": [
    "df = pd.read_csv(\"cardio.csv\", sep=\";\")"
   ]
  },
  {
   "cell_type": "markdown",
   "id": "bd8c4f4e",
   "metadata": {},
   "source": [
    " ### ⭐ <span style=\"color:#49519E\">3. Pick up 500 observations randomly and continue your analysis with this selected observations:<span>\n",
    "    \n",
    "**🚀 HINT: Use ``42`` as random_state.**"
   ]
  },
  {
   "cell_type": "code",
   "execution_count": 284,
   "id": "e266ea6d",
   "metadata": {},
   "outputs": [],
   "source": [
    "df = df.sample(500, random_state=42)"
   ]
  },
  {
   "cell_type": "markdown",
   "id": "218ddde8",
   "metadata": {},
   "source": [
    "### ⭐ <span style=\"color:#49519E\">4. Explore the Dataset:<span>\n",
    "    \n",
    "**🚀 HINT: Use te following metods or more if needed.**\n",
    "    \n",
    "``df.head()``\n",
    "``df.info()``\n",
    "``df.shape``\n",
    "``df.describe()``"
   ]
  },
  {
   "cell_type": "code",
   "execution_count": 287,
   "id": "902eee76",
   "metadata": {},
   "outputs": [
    {
     "data": {
      "text/html": [
       "<div>\n",
       "<style scoped>\n",
       "    .dataframe tbody tr th:only-of-type {\n",
       "        vertical-align: middle;\n",
       "    }\n",
       "\n",
       "    .dataframe tbody tr th {\n",
       "        vertical-align: top;\n",
       "    }\n",
       "\n",
       "    .dataframe thead th {\n",
       "        text-align: right;\n",
       "    }\n",
       "</style>\n",
       "<table border=\"1\" class=\"dataframe\">\n",
       "  <thead>\n",
       "    <tr style=\"text-align: right;\">\n",
       "      <th></th>\n",
       "      <th>id</th>\n",
       "      <th>age</th>\n",
       "      <th>gender</th>\n",
       "      <th>height</th>\n",
       "      <th>weight</th>\n",
       "      <th>ap_hi</th>\n",
       "      <th>ap_lo</th>\n",
       "      <th>cholesterol</th>\n",
       "      <th>gluc</th>\n",
       "      <th>smoke</th>\n",
       "      <th>alco</th>\n",
       "      <th>active</th>\n",
       "      <th>cardio</th>\n",
       "    </tr>\n",
       "  </thead>\n",
       "  <tbody>\n",
       "    <tr>\n",
       "      <th>46730</th>\n",
       "      <td>66728</td>\n",
       "      <td>21770</td>\n",
       "      <td>1</td>\n",
       "      <td>156</td>\n",
       "      <td>64.0</td>\n",
       "      <td>140</td>\n",
       "      <td>80</td>\n",
       "      <td>2</td>\n",
       "      <td>1</td>\n",
       "      <td>0</td>\n",
       "      <td>0</td>\n",
       "      <td>1</td>\n",
       "      <td>1</td>\n",
       "    </tr>\n",
       "    <tr>\n",
       "      <th>48393</th>\n",
       "      <td>69098</td>\n",
       "      <td>21876</td>\n",
       "      <td>1</td>\n",
       "      <td>170</td>\n",
       "      <td>85.0</td>\n",
       "      <td>160</td>\n",
       "      <td>90</td>\n",
       "      <td>1</td>\n",
       "      <td>1</td>\n",
       "      <td>0</td>\n",
       "      <td>0</td>\n",
       "      <td>1</td>\n",
       "      <td>1</td>\n",
       "    </tr>\n",
       "    <tr>\n",
       "      <th>41416</th>\n",
       "      <td>59185</td>\n",
       "      <td>23270</td>\n",
       "      <td>1</td>\n",
       "      <td>151</td>\n",
       "      <td>90.0</td>\n",
       "      <td>130</td>\n",
       "      <td>80</td>\n",
       "      <td>1</td>\n",
       "      <td>1</td>\n",
       "      <td>0</td>\n",
       "      <td>0</td>\n",
       "      <td>1</td>\n",
       "      <td>1</td>\n",
       "    </tr>\n",
       "    <tr>\n",
       "      <th>34506</th>\n",
       "      <td>49288</td>\n",
       "      <td>19741</td>\n",
       "      <td>1</td>\n",
       "      <td>159</td>\n",
       "      <td>97.0</td>\n",
       "      <td>120</td>\n",
       "      <td>80</td>\n",
       "      <td>1</td>\n",
       "      <td>1</td>\n",
       "      <td>0</td>\n",
       "      <td>0</td>\n",
       "      <td>1</td>\n",
       "      <td>1</td>\n",
       "    </tr>\n",
       "    <tr>\n",
       "      <th>43725</th>\n",
       "      <td>62481</td>\n",
       "      <td>18395</td>\n",
       "      <td>1</td>\n",
       "      <td>164</td>\n",
       "      <td>68.0</td>\n",
       "      <td>120</td>\n",
       "      <td>80</td>\n",
       "      <td>1</td>\n",
       "      <td>1</td>\n",
       "      <td>0</td>\n",
       "      <td>0</td>\n",
       "      <td>1</td>\n",
       "      <td>0</td>\n",
       "    </tr>\n",
       "  </tbody>\n",
       "</table>\n",
       "</div>"
      ],
      "text/plain": [
       "          id    age  gender  height  weight  ap_hi  ap_lo  cholesterol  gluc  \\\n",
       "46730  66728  21770       1     156    64.0    140     80            2     1   \n",
       "48393  69098  21876       1     170    85.0    160     90            1     1   \n",
       "41416  59185  23270       1     151    90.0    130     80            1     1   \n",
       "34506  49288  19741       1     159    97.0    120     80            1     1   \n",
       "43725  62481  18395       1     164    68.0    120     80            1     1   \n",
       "\n",
       "       smoke  alco  active  cardio  \n",
       "46730      0     0       1       1  \n",
       "48393      0     0       1       1  \n",
       "41416      0     0       1       1  \n",
       "34506      0     0       1       1  \n",
       "43725      0     0       1       0  "
      ]
     },
     "execution_count": 287,
     "metadata": {},
     "output_type": "execute_result"
    }
   ],
   "source": [
    "df.head()"
   ]
  },
  {
   "cell_type": "code",
   "execution_count": 288,
   "id": "61a202f8",
   "metadata": {},
   "outputs": [
    {
     "name": "stdout",
     "output_type": "stream",
     "text": [
      "<class 'pandas.core.frame.DataFrame'>\n",
      "Index: 500 entries, 46730 to 42173\n",
      "Data columns (total 13 columns):\n",
      " #   Column       Non-Null Count  Dtype  \n",
      "---  ------       --------------  -----  \n",
      " 0   id           500 non-null    int64  \n",
      " 1   age          500 non-null    int64  \n",
      " 2   gender       500 non-null    int64  \n",
      " 3   height       500 non-null    int64  \n",
      " 4   weight       500 non-null    float64\n",
      " 5   ap_hi        500 non-null    int64  \n",
      " 6   ap_lo        500 non-null    int64  \n",
      " 7   cholesterol  500 non-null    int64  \n",
      " 8   gluc         500 non-null    int64  \n",
      " 9   smoke        500 non-null    int64  \n",
      " 10  alco         500 non-null    int64  \n",
      " 11  active       500 non-null    int64  \n",
      " 12  cardio       500 non-null    int64  \n",
      "dtypes: float64(1), int64(12)\n",
      "memory usage: 54.7 KB\n"
     ]
    }
   ],
   "source": [
    "df.info()"
   ]
  },
  {
   "cell_type": "code",
   "execution_count": 291,
   "id": "f2837859",
   "metadata": {},
   "outputs": [
    {
     "data": {
      "text/plain": [
       "(500, 13)"
      ]
     },
     "execution_count": 291,
     "metadata": {},
     "output_type": "execute_result"
    }
   ],
   "source": [
    "df.shape"
   ]
  },
  {
   "cell_type": "code",
   "execution_count": 293,
   "id": "994fd5fe",
   "metadata": {},
   "outputs": [
    {
     "data": {
      "text/html": [
       "<div>\n",
       "<style scoped>\n",
       "    .dataframe tbody tr th:only-of-type {\n",
       "        vertical-align: middle;\n",
       "    }\n",
       "\n",
       "    .dataframe tbody tr th {\n",
       "        vertical-align: top;\n",
       "    }\n",
       "\n",
       "    .dataframe thead th {\n",
       "        text-align: right;\n",
       "    }\n",
       "</style>\n",
       "<table border=\"1\" class=\"dataframe\">\n",
       "  <thead>\n",
       "    <tr style=\"text-align: right;\">\n",
       "      <th></th>\n",
       "      <th>id</th>\n",
       "      <th>age</th>\n",
       "      <th>gender</th>\n",
       "      <th>height</th>\n",
       "      <th>weight</th>\n",
       "      <th>ap_hi</th>\n",
       "      <th>ap_lo</th>\n",
       "      <th>cholesterol</th>\n",
       "      <th>gluc</th>\n",
       "      <th>smoke</th>\n",
       "      <th>alco</th>\n",
       "      <th>active</th>\n",
       "      <th>cardio</th>\n",
       "    </tr>\n",
       "  </thead>\n",
       "  <tbody>\n",
       "    <tr>\n",
       "      <th>count</th>\n",
       "      <td>500.000000</td>\n",
       "      <td>500.000000</td>\n",
       "      <td>500.000000</td>\n",
       "      <td>500.000000</td>\n",
       "      <td>500.000000</td>\n",
       "      <td>500.00000</td>\n",
       "      <td>500.000000</td>\n",
       "      <td>500.000000</td>\n",
       "      <td>500.000000</td>\n",
       "      <td>500.00000</td>\n",
       "      <td>500.000000</td>\n",
       "      <td>500.000000</td>\n",
       "      <td>500.000000</td>\n",
       "    </tr>\n",
       "    <tr>\n",
       "      <th>mean</th>\n",
       "      <td>49656.324000</td>\n",
       "      <td>19460.940000</td>\n",
       "      <td>1.368000</td>\n",
       "      <td>164.746000</td>\n",
       "      <td>74.093400</td>\n",
       "      <td>127.91200</td>\n",
       "      <td>98.908000</td>\n",
       "      <td>1.338000</td>\n",
       "      <td>1.192000</td>\n",
       "      <td>0.07800</td>\n",
       "      <td>0.046000</td>\n",
       "      <td>0.762000</td>\n",
       "      <td>0.492000</td>\n",
       "    </tr>\n",
       "    <tr>\n",
       "      <th>std</th>\n",
       "      <td>27694.652229</td>\n",
       "      <td>2444.264657</td>\n",
       "      <td>0.482744</td>\n",
       "      <td>8.017609</td>\n",
       "      <td>14.340822</td>\n",
       "      <td>40.82349</td>\n",
       "      <td>130.985839</td>\n",
       "      <td>0.651617</td>\n",
       "      <td>0.540111</td>\n",
       "      <td>0.26844</td>\n",
       "      <td>0.209695</td>\n",
       "      <td>0.426286</td>\n",
       "      <td>0.500437</td>\n",
       "    </tr>\n",
       "    <tr>\n",
       "      <th>min</th>\n",
       "      <td>172.000000</td>\n",
       "      <td>14319.000000</td>\n",
       "      <td>1.000000</td>\n",
       "      <td>144.000000</td>\n",
       "      <td>43.000000</td>\n",
       "      <td>-120.00000</td>\n",
       "      <td>0.000000</td>\n",
       "      <td>1.000000</td>\n",
       "      <td>1.000000</td>\n",
       "      <td>0.00000</td>\n",
       "      <td>0.000000</td>\n",
       "      <td>0.000000</td>\n",
       "      <td>0.000000</td>\n",
       "    </tr>\n",
       "    <tr>\n",
       "      <th>25%</th>\n",
       "      <td>26990.500000</td>\n",
       "      <td>17804.000000</td>\n",
       "      <td>1.000000</td>\n",
       "      <td>159.000000</td>\n",
       "      <td>65.000000</td>\n",
       "      <td>120.00000</td>\n",
       "      <td>80.000000</td>\n",
       "      <td>1.000000</td>\n",
       "      <td>1.000000</td>\n",
       "      <td>0.00000</td>\n",
       "      <td>0.000000</td>\n",
       "      <td>1.000000</td>\n",
       "      <td>0.000000</td>\n",
       "    </tr>\n",
       "    <tr>\n",
       "      <th>50%</th>\n",
       "      <td>49225.500000</td>\n",
       "      <td>19669.000000</td>\n",
       "      <td>1.000000</td>\n",
       "      <td>165.000000</td>\n",
       "      <td>72.000000</td>\n",
       "      <td>120.00000</td>\n",
       "      <td>80.000000</td>\n",
       "      <td>1.000000</td>\n",
       "      <td>1.000000</td>\n",
       "      <td>0.00000</td>\n",
       "      <td>0.000000</td>\n",
       "      <td>1.000000</td>\n",
       "      <td>0.000000</td>\n",
       "    </tr>\n",
       "    <tr>\n",
       "      <th>75%</th>\n",
       "      <td>72126.500000</td>\n",
       "      <td>21326.250000</td>\n",
       "      <td>2.000000</td>\n",
       "      <td>170.000000</td>\n",
       "      <td>80.000000</td>\n",
       "      <td>140.00000</td>\n",
       "      <td>90.000000</td>\n",
       "      <td>1.000000</td>\n",
       "      <td>1.000000</td>\n",
       "      <td>0.00000</td>\n",
       "      <td>0.000000</td>\n",
       "      <td>1.000000</td>\n",
       "      <td>1.000000</td>\n",
       "    </tr>\n",
       "    <tr>\n",
       "      <th>max</th>\n",
       "      <td>99934.000000</td>\n",
       "      <td>23670.000000</td>\n",
       "      <td>2.000000</td>\n",
       "      <td>198.000000</td>\n",
       "      <td>160.000000</td>\n",
       "      <td>907.00000</td>\n",
       "      <td>1200.000000</td>\n",
       "      <td>3.000000</td>\n",
       "      <td>3.000000</td>\n",
       "      <td>1.00000</td>\n",
       "      <td>1.000000</td>\n",
       "      <td>1.000000</td>\n",
       "      <td>1.000000</td>\n",
       "    </tr>\n",
       "  </tbody>\n",
       "</table>\n",
       "</div>"
      ],
      "text/plain": [
       "                 id           age      gender      height      weight  \\\n",
       "count    500.000000    500.000000  500.000000  500.000000  500.000000   \n",
       "mean   49656.324000  19460.940000    1.368000  164.746000   74.093400   \n",
       "std    27694.652229   2444.264657    0.482744    8.017609   14.340822   \n",
       "min      172.000000  14319.000000    1.000000  144.000000   43.000000   \n",
       "25%    26990.500000  17804.000000    1.000000  159.000000   65.000000   \n",
       "50%    49225.500000  19669.000000    1.000000  165.000000   72.000000   \n",
       "75%    72126.500000  21326.250000    2.000000  170.000000   80.000000   \n",
       "max    99934.000000  23670.000000    2.000000  198.000000  160.000000   \n",
       "\n",
       "           ap_hi        ap_lo  cholesterol        gluc      smoke        alco  \\\n",
       "count  500.00000   500.000000   500.000000  500.000000  500.00000  500.000000   \n",
       "mean   127.91200    98.908000     1.338000    1.192000    0.07800    0.046000   \n",
       "std     40.82349   130.985839     0.651617    0.540111    0.26844    0.209695   \n",
       "min   -120.00000     0.000000     1.000000    1.000000    0.00000    0.000000   \n",
       "25%    120.00000    80.000000     1.000000    1.000000    0.00000    0.000000   \n",
       "50%    120.00000    80.000000     1.000000    1.000000    0.00000    0.000000   \n",
       "75%    140.00000    90.000000     1.000000    1.000000    0.00000    0.000000   \n",
       "max    907.00000  1200.000000     3.000000    3.000000    1.00000    1.000000   \n",
       "\n",
       "           active      cardio  \n",
       "count  500.000000  500.000000  \n",
       "mean     0.762000    0.492000  \n",
       "std      0.426286    0.500437  \n",
       "min      0.000000    0.000000  \n",
       "25%      1.000000    0.000000  \n",
       "50%      1.000000    0.000000  \n",
       "75%      1.000000    1.000000  \n",
       "max      1.000000    1.000000  "
      ]
     },
     "execution_count": 293,
     "metadata": {},
     "output_type": "execute_result"
    }
   ],
   "source": [
    "df.describe()"
   ]
  },
  {
   "cell_type": "markdown",
   "id": "95717d19",
   "metadata": {},
   "source": [
    "### ⭐ <span style=\"color:#49519E\">5. Check missing values; if so, handle them:<span>"
   ]
  },
  {
   "cell_type": "code",
   "execution_count": 296,
   "id": "c17ce3e8",
   "metadata": {},
   "outputs": [
    {
     "data": {
      "text/plain": [
       "id             0\n",
       "age            0\n",
       "gender         0\n",
       "height         0\n",
       "weight         0\n",
       "ap_hi          0\n",
       "ap_lo          0\n",
       "cholesterol    0\n",
       "gluc           0\n",
       "smoke          0\n",
       "alco           0\n",
       "active         0\n",
       "cardio         0\n",
       "dtype: int64"
      ]
     },
     "execution_count": 296,
     "metadata": {},
     "output_type": "execute_result"
    }
   ],
   "source": [
    "missing_values = df.isnull().sum()\n",
    "missing_values"
   ]
  },
  {
   "cell_type": "markdown",
   "id": "159ec9ef",
   "metadata": {
    "id": "159ec9ef"
   },
   "source": [
    "### ⭐ <span style=\"color:#49519E\">6. Check extreme values for each feature visually; if so, handle them:<span>\n",
    "    \n",
    "**🚀 HINTS:**     \n",
    "  - <u>Blood pressure could NOT be negative value! Even it rarely exceeds some point.</u>   \n",
    "  - <u>Be careful about the row index numbers since you picked up some observations randomly.</u>   \n",
    "  - <u>Be careful about the ``age`` feature since it's given as days.</u>"
   ]
  },
  {
   "cell_type": "code",
   "execution_count": 299,
   "id": "5cb63d17-8cb3-47db-848f-9ce559a0424a",
   "metadata": {},
   "outputs": [],
   "source": [
    "df.set_index(['id'], inplace=True)"
   ]
  },
  {
   "cell_type": "code",
   "execution_count": 301,
   "id": "b0487e4b",
   "metadata": {},
   "outputs": [
    {
     "data": {
      "text/html": [
       "<div>\n",
       "<style scoped>\n",
       "    .dataframe tbody tr th:only-of-type {\n",
       "        vertical-align: middle;\n",
       "    }\n",
       "\n",
       "    .dataframe tbody tr th {\n",
       "        vertical-align: top;\n",
       "    }\n",
       "\n",
       "    .dataframe thead th {\n",
       "        text-align: right;\n",
       "    }\n",
       "</style>\n",
       "<table border=\"1\" class=\"dataframe\">\n",
       "  <thead>\n",
       "    <tr style=\"text-align: right;\">\n",
       "      <th></th>\n",
       "      <th>age</th>\n",
       "      <th>gender</th>\n",
       "      <th>height</th>\n",
       "      <th>weight</th>\n",
       "      <th>ap_hi</th>\n",
       "      <th>ap_lo</th>\n",
       "      <th>cholesterol</th>\n",
       "      <th>gluc</th>\n",
       "      <th>smoke</th>\n",
       "      <th>alco</th>\n",
       "      <th>active</th>\n",
       "      <th>cardio</th>\n",
       "    </tr>\n",
       "    <tr>\n",
       "      <th>id</th>\n",
       "      <th></th>\n",
       "      <th></th>\n",
       "      <th></th>\n",
       "      <th></th>\n",
       "      <th></th>\n",
       "      <th></th>\n",
       "      <th></th>\n",
       "      <th></th>\n",
       "      <th></th>\n",
       "      <th></th>\n",
       "      <th></th>\n",
       "      <th></th>\n",
       "    </tr>\n",
       "  </thead>\n",
       "  <tbody>\n",
       "    <tr>\n",
       "      <th>66728</th>\n",
       "      <td>59.64</td>\n",
       "      <td>1</td>\n",
       "      <td>156</td>\n",
       "      <td>64.0</td>\n",
       "      <td>140</td>\n",
       "      <td>80</td>\n",
       "      <td>2</td>\n",
       "      <td>1</td>\n",
       "      <td>0</td>\n",
       "      <td>0</td>\n",
       "      <td>1</td>\n",
       "      <td>1</td>\n",
       "    </tr>\n",
       "    <tr>\n",
       "      <th>69098</th>\n",
       "      <td>59.93</td>\n",
       "      <td>1</td>\n",
       "      <td>170</td>\n",
       "      <td>85.0</td>\n",
       "      <td>160</td>\n",
       "      <td>90</td>\n",
       "      <td>1</td>\n",
       "      <td>1</td>\n",
       "      <td>0</td>\n",
       "      <td>0</td>\n",
       "      <td>1</td>\n",
       "      <td>1</td>\n",
       "    </tr>\n",
       "    <tr>\n",
       "      <th>59185</th>\n",
       "      <td>63.75</td>\n",
       "      <td>1</td>\n",
       "      <td>151</td>\n",
       "      <td>90.0</td>\n",
       "      <td>130</td>\n",
       "      <td>80</td>\n",
       "      <td>1</td>\n",
       "      <td>1</td>\n",
       "      <td>0</td>\n",
       "      <td>0</td>\n",
       "      <td>1</td>\n",
       "      <td>1</td>\n",
       "    </tr>\n",
       "  </tbody>\n",
       "</table>\n",
       "</div>"
      ],
      "text/plain": [
       "         age  gender  height  weight  ap_hi  ap_lo  cholesterol  gluc  smoke  \\\n",
       "id                                                                             \n",
       "66728  59.64       1     156    64.0    140     80            2     1      0   \n",
       "69098  59.93       1     170    85.0    160     90            1     1      0   \n",
       "59185  63.75       1     151    90.0    130     80            1     1      0   \n",
       "\n",
       "       alco  active  cardio  \n",
       "id                           \n",
       "66728     0       1       1  \n",
       "69098     0       1       1  \n",
       "59185     0       1       1  "
      ]
     },
     "execution_count": 301,
     "metadata": {},
     "output_type": "execute_result"
    }
   ],
   "source": [
    "df[\"age\"] = np.round(df.age/365, 2)\n",
    "df.head(3)"
   ]
  },
  {
   "cell_type": "code",
   "execution_count": 303,
   "id": "fc52a0b4",
   "metadata": {},
   "outputs": [
    {
     "data": {
      "text/html": [
       "<div>\n",
       "<style scoped>\n",
       "    .dataframe tbody tr th:only-of-type {\n",
       "        vertical-align: middle;\n",
       "    }\n",
       "\n",
       "    .dataframe tbody tr th {\n",
       "        vertical-align: top;\n",
       "    }\n",
       "\n",
       "    .dataframe thead th {\n",
       "        text-align: right;\n",
       "    }\n",
       "</style>\n",
       "<table border=\"1\" class=\"dataframe\">\n",
       "  <thead>\n",
       "    <tr style=\"text-align: right;\">\n",
       "      <th></th>\n",
       "      <th>age</th>\n",
       "      <th>gender</th>\n",
       "      <th>height</th>\n",
       "      <th>weight</th>\n",
       "      <th>ap_hi</th>\n",
       "      <th>ap_lo</th>\n",
       "      <th>cholesterol</th>\n",
       "      <th>gluc</th>\n",
       "      <th>smoke</th>\n",
       "      <th>alco</th>\n",
       "      <th>active</th>\n",
       "      <th>cardio</th>\n",
       "    </tr>\n",
       "    <tr>\n",
       "      <th>id</th>\n",
       "      <th></th>\n",
       "      <th></th>\n",
       "      <th></th>\n",
       "      <th></th>\n",
       "      <th></th>\n",
       "      <th></th>\n",
       "      <th></th>\n",
       "      <th></th>\n",
       "      <th></th>\n",
       "      <th></th>\n",
       "      <th></th>\n",
       "      <th></th>\n",
       "    </tr>\n",
       "  </thead>\n",
       "  <tbody>\n",
       "    <tr>\n",
       "      <th>36025</th>\n",
       "      <td>40.3</td>\n",
       "      <td>2</td>\n",
       "      <td>168</td>\n",
       "      <td>50.0</td>\n",
       "      <td>-120</td>\n",
       "      <td>80</td>\n",
       "      <td>2</td>\n",
       "      <td>1</td>\n",
       "      <td>0</td>\n",
       "      <td>0</td>\n",
       "      <td>0</td>\n",
       "      <td>1</td>\n",
       "    </tr>\n",
       "  </tbody>\n",
       "</table>\n",
       "</div>"
      ],
      "text/plain": [
       "        age  gender  height  weight  ap_hi  ap_lo  cholesterol  gluc  smoke  \\\n",
       "id                                                                            \n",
       "36025  40.3       2     168    50.0   -120     80            2     1      0   \n",
       "\n",
       "       alco  active  cardio  \n",
       "id                           \n",
       "36025     0       0       1  "
      ]
     },
     "execution_count": 303,
     "metadata": {},
     "output_type": "execute_result"
    }
   ],
   "source": [
    "negative_blood_pressure = df[(df['ap_hi'] < 0) | (df['ap_lo'] < 0)]\n",
    "negative_blood_pressure"
   ]
  },
  {
   "cell_type": "code",
   "execution_count": 305,
   "id": "e7eb6079-bf4f-4a21-8531-dcf8af3c354d",
   "metadata": {},
   "outputs": [
    {
     "data": {
      "text/html": [
       "<div>\n",
       "<style scoped>\n",
       "    .dataframe tbody tr th:only-of-type {\n",
       "        vertical-align: middle;\n",
       "    }\n",
       "\n",
       "    .dataframe tbody tr th {\n",
       "        vertical-align: top;\n",
       "    }\n",
       "\n",
       "    .dataframe thead th {\n",
       "        text-align: right;\n",
       "    }\n",
       "</style>\n",
       "<table border=\"1\" class=\"dataframe\">\n",
       "  <thead>\n",
       "    <tr style=\"text-align: right;\">\n",
       "      <th></th>\n",
       "      <th>age</th>\n",
       "      <th>gender</th>\n",
       "      <th>height</th>\n",
       "      <th>weight</th>\n",
       "      <th>ap_hi</th>\n",
       "      <th>ap_lo</th>\n",
       "      <th>cholesterol</th>\n",
       "      <th>gluc</th>\n",
       "      <th>smoke</th>\n",
       "      <th>alco</th>\n",
       "      <th>active</th>\n",
       "      <th>cardio</th>\n",
       "    </tr>\n",
       "    <tr>\n",
       "      <th>id</th>\n",
       "      <th></th>\n",
       "      <th></th>\n",
       "      <th></th>\n",
       "      <th></th>\n",
       "      <th></th>\n",
       "      <th></th>\n",
       "      <th></th>\n",
       "      <th></th>\n",
       "      <th></th>\n",
       "      <th></th>\n",
       "      <th></th>\n",
       "      <th></th>\n",
       "    </tr>\n",
       "  </thead>\n",
       "  <tbody>\n",
       "    <tr>\n",
       "      <th>66728</th>\n",
       "      <td>59.64</td>\n",
       "      <td>1</td>\n",
       "      <td>156</td>\n",
       "      <td>64.0</td>\n",
       "      <td>140</td>\n",
       "      <td>80</td>\n",
       "      <td>2</td>\n",
       "      <td>1</td>\n",
       "      <td>0</td>\n",
       "      <td>0</td>\n",
       "      <td>1</td>\n",
       "      <td>1</td>\n",
       "    </tr>\n",
       "    <tr>\n",
       "      <th>69098</th>\n",
       "      <td>59.93</td>\n",
       "      <td>1</td>\n",
       "      <td>170</td>\n",
       "      <td>85.0</td>\n",
       "      <td>160</td>\n",
       "      <td>90</td>\n",
       "      <td>1</td>\n",
       "      <td>1</td>\n",
       "      <td>0</td>\n",
       "      <td>0</td>\n",
       "      <td>1</td>\n",
       "      <td>1</td>\n",
       "    </tr>\n",
       "    <tr>\n",
       "      <th>59185</th>\n",
       "      <td>63.75</td>\n",
       "      <td>1</td>\n",
       "      <td>151</td>\n",
       "      <td>90.0</td>\n",
       "      <td>130</td>\n",
       "      <td>80</td>\n",
       "      <td>1</td>\n",
       "      <td>1</td>\n",
       "      <td>0</td>\n",
       "      <td>0</td>\n",
       "      <td>1</td>\n",
       "      <td>1</td>\n",
       "    </tr>\n",
       "    <tr>\n",
       "      <th>49288</th>\n",
       "      <td>54.08</td>\n",
       "      <td>1</td>\n",
       "      <td>159</td>\n",
       "      <td>97.0</td>\n",
       "      <td>120</td>\n",
       "      <td>80</td>\n",
       "      <td>1</td>\n",
       "      <td>1</td>\n",
       "      <td>0</td>\n",
       "      <td>0</td>\n",
       "      <td>1</td>\n",
       "      <td>1</td>\n",
       "    </tr>\n",
       "    <tr>\n",
       "      <th>62481</th>\n",
       "      <td>50.40</td>\n",
       "      <td>1</td>\n",
       "      <td>164</td>\n",
       "      <td>68.0</td>\n",
       "      <td>120</td>\n",
       "      <td>80</td>\n",
       "      <td>1</td>\n",
       "      <td>1</td>\n",
       "      <td>0</td>\n",
       "      <td>0</td>\n",
       "      <td>1</td>\n",
       "      <td>0</td>\n",
       "    </tr>\n",
       "    <tr>\n",
       "      <th>...</th>\n",
       "      <td>...</td>\n",
       "      <td>...</td>\n",
       "      <td>...</td>\n",
       "      <td>...</td>\n",
       "      <td>...</td>\n",
       "      <td>...</td>\n",
       "      <td>...</td>\n",
       "      <td>...</td>\n",
       "      <td>...</td>\n",
       "      <td>...</td>\n",
       "      <td>...</td>\n",
       "      <td>...</td>\n",
       "    </tr>\n",
       "    <tr>\n",
       "      <th>59009</th>\n",
       "      <td>45.73</td>\n",
       "      <td>2</td>\n",
       "      <td>161</td>\n",
       "      <td>64.0</td>\n",
       "      <td>140</td>\n",
       "      <td>80</td>\n",
       "      <td>1</td>\n",
       "      <td>1</td>\n",
       "      <td>0</td>\n",
       "      <td>0</td>\n",
       "      <td>0</td>\n",
       "      <td>1</td>\n",
       "    </tr>\n",
       "    <tr>\n",
       "      <th>67488</th>\n",
       "      <td>53.44</td>\n",
       "      <td>1</td>\n",
       "      <td>151</td>\n",
       "      <td>73.0</td>\n",
       "      <td>90</td>\n",
       "      <td>60</td>\n",
       "      <td>1</td>\n",
       "      <td>1</td>\n",
       "      <td>0</td>\n",
       "      <td>0</td>\n",
       "      <td>1</td>\n",
       "      <td>1</td>\n",
       "    </tr>\n",
       "    <tr>\n",
       "      <th>19693</th>\n",
       "      <td>40.17</td>\n",
       "      <td>2</td>\n",
       "      <td>165</td>\n",
       "      <td>69.0</td>\n",
       "      <td>120</td>\n",
       "      <td>80</td>\n",
       "      <td>1</td>\n",
       "      <td>1</td>\n",
       "      <td>1</td>\n",
       "      <td>0</td>\n",
       "      <td>1</td>\n",
       "      <td>0</td>\n",
       "    </tr>\n",
       "    <tr>\n",
       "      <th>21476</th>\n",
       "      <td>62.23</td>\n",
       "      <td>1</td>\n",
       "      <td>154</td>\n",
       "      <td>75.0</td>\n",
       "      <td>120</td>\n",
       "      <td>80</td>\n",
       "      <td>1</td>\n",
       "      <td>1</td>\n",
       "      <td>0</td>\n",
       "      <td>0</td>\n",
       "      <td>1</td>\n",
       "      <td>1</td>\n",
       "    </tr>\n",
       "    <tr>\n",
       "      <th>60247</th>\n",
       "      <td>39.79</td>\n",
       "      <td>2</td>\n",
       "      <td>170</td>\n",
       "      <td>74.0</td>\n",
       "      <td>120</td>\n",
       "      <td>80</td>\n",
       "      <td>1</td>\n",
       "      <td>1</td>\n",
       "      <td>0</td>\n",
       "      <td>0</td>\n",
       "      <td>0</td>\n",
       "      <td>0</td>\n",
       "    </tr>\n",
       "  </tbody>\n",
       "</table>\n",
       "<p>499 rows × 12 columns</p>\n",
       "</div>"
      ],
      "text/plain": [
       "         age  gender  height  weight  ap_hi  ap_lo  cholesterol  gluc  smoke  \\\n",
       "id                                                                             \n",
       "66728  59.64       1     156    64.0    140     80            2     1      0   \n",
       "69098  59.93       1     170    85.0    160     90            1     1      0   \n",
       "59185  63.75       1     151    90.0    130     80            1     1      0   \n",
       "49288  54.08       1     159    97.0    120     80            1     1      0   \n",
       "62481  50.40       1     164    68.0    120     80            1     1      0   \n",
       "...      ...     ...     ...     ...    ...    ...          ...   ...    ...   \n",
       "59009  45.73       2     161    64.0    140     80            1     1      0   \n",
       "67488  53.44       1     151    73.0     90     60            1     1      0   \n",
       "19693  40.17       2     165    69.0    120     80            1     1      1   \n",
       "21476  62.23       1     154    75.0    120     80            1     1      0   \n",
       "60247  39.79       2     170    74.0    120     80            1     1      0   \n",
       "\n",
       "       alco  active  cardio  \n",
       "id                           \n",
       "66728     0       1       1  \n",
       "69098     0       1       1  \n",
       "59185     0       1       1  \n",
       "49288     0       1       1  \n",
       "62481     0       1       0  \n",
       "...     ...     ...     ...  \n",
       "59009     0       0       1  \n",
       "67488     0       1       1  \n",
       "19693     0       1       0  \n",
       "21476     0       1       1  \n",
       "60247     0       0       0  \n",
       "\n",
       "[499 rows x 12 columns]"
      ]
     },
     "execution_count": 305,
     "metadata": {},
     "output_type": "execute_result"
    }
   ],
   "source": [
    "df = df[(df['ap_hi'] >= 0) & (df['ap_lo'] >= 0)]\n",
    "df"
   ]
  },
  {
   "cell_type": "code",
   "execution_count": 307,
   "id": "7dd6db16",
   "metadata": {},
   "outputs": [
    {
     "data": {
      "image/png": "[encoded data removed]",
      "text/plain": [
       "<Figure size 800x400 with 1 Axes>"
      ]
     },
     "metadata": {},
     "output_type": "display_data"
    }
   ],
   "source": [
    "sns.displot(x=\"age\", height=4, aspect=2, data=df);"
   ]
  },
  {
   "cell_type": "code",
   "execution_count": 308,
   "id": "7e635973",
   "metadata": {},
   "outputs": [
    {
     "data": {
      "image/png": "[encoded data removed]",
      "text/plain": [
       "<Figure size 1200x800 with 12 Axes>"
      ]
     },
     "metadata": {},
     "output_type": "display_data"
    }
   ],
   "source": [
    "# Set the figure size\n",
    "plt.figure(figsize=(12, 8))\n",
    "\n",
    "# Create subplots for each column\n",
    "for i, col in enumerate(df.columns, 1):\n",
    "    plt.subplot(4, 4, i)  # Adjust the number of rows and columns as needed\n",
    "    sns.histplot(df[col], kde=True, bins=20)  # You can use kde=False for just histograms\n",
    "    plt.title(col)\n",
    "    plt.xlabel(col)\n",
    "    plt.ylabel('Frequency')\n",
    "\n",
    "# Adjust layout for better spacing\n",
    "plt.tight_layout()\n",
    "\n",
    "# Display the plot\n",
    "plt.show()"
   ]
  },
  {
   "cell_type": "code",
   "execution_count": 310,
   "id": "8f23b833-3504-4745-9629-3c3a507070cc",
   "metadata": {},
   "outputs": [
    {
     "name": "stdout",
     "output_type": "stream",
     "text": [
      "age\n",
      "gender\n",
      "height\n",
      "weight\n",
      "ap_hi\n",
      "ap_lo\n",
      "cholesterol\n",
      "gluc\n",
      "smoke\n",
      "alco\n",
      "active\n",
      "cardio\n"
     ]
    },
    {
     "data": {
      "image/png": "[encoded data removed]",
      "text/plain": [
       "<Figure size 1200x800 with 12 Axes>"
      ]
     },
     "metadata": {},
     "output_type": "display_data"
    }
   ],
   "source": [
    "# Set the figure size\n",
    "plt.figure(figsize=(12, 8))\n",
    "\n",
    "# Create subplots for each column\n",
    "for i, col in enumerate(df.columns, 1):\n",
    "    plt.subplot(4, 4, i)  # Adjust the number of rows and columns as needed\n",
    "    sns.boxplot(x=df[col])  # Boxplot for each column\n",
    "    plt.title(col)\n",
    "    plt.xlabel(col)\n",
    "    print(col)\n",
    "# Adjust layout for better spacing\n",
    "plt.tight_layout()\n",
    "\n",
    "# Display the plot\n",
    "plt.show()"
   ]
  },
  {
   "cell_type": "markdown",
   "id": "d5d0ded4",
   "metadata": {},
   "source": [
    "**🤔 DOMAIN KNOWLEDGE ABOUT SYSTOLIC BLOOD PRESSURE:**\n",
    "\n",
    "Normal blood pressure for most adults is defined as a systolic pressure of less than 120 and a diastolic pressure of less than 80. [Source](https://www.nia.nih.gov/health/high-blood-pressure/high-blood-pressure-and-older-adults#:~:text=Normal%20blood%20pressure%20for%20most,pressure%20of%20less%20than%2080.)\n",
    "\n",
    "``Can systolic blood pressure be zero?`` When blood pressure drops to zero, it typically signifies a complete failure of the circulatory system, which is a life-threatening situation...If blood pressure were to reach zero, it would indicate that blood is no longer circulating effectively, which can lead to severe complications such as Hypovolemic Shock, Cardiogenic Shock, Septic Shock, Anaphylactic Shock and so on. [Source](https://www.quora.com/What-will-happen-when-the-blood-pressure-goes-zero) If your blood pressure drops too low, your body's vital organs do not get enough oxygen and nutrients. When this happens, low blood pressure can lead to shock , which requires immediate medical attention. Signs of shock include cold and sweaty skin, rapid breathing, a blue skin tone, or a weak and rapid pulse. [Source](https://www.nhlbi.nih.gov/health/low-blood-pressure#:~:text=If%20your%20blood%20pressure%20drops,a%20weak%20and%20rapid%20pulse.)\n",
    "\n",
    "``Is it possible to have a 300 systolic blood pressure?`` Very Rare but possible.Such BP is observed when you have a stroke...Anything above 210/120 is called a Hypertensive Crisis and needs hospitalization...[Source](https://www.quora.com/Is-it-possible-to-have-a-300-systolic-blood-pressure) The commonest pattern is that of hypertensive crisis, with profound general malaise, during which the systolic blood pressure could exceed 300 mmHg and is often >250 mmHg...[Source](https://www.ncbi.nlm.nih.gov/pmc/articles/PMC2780609/#:~:text=The%20commonest%20pattern%20is%20that,Another%20presentation%20is%20volatile%20hypertension.)"
   ]
  },
  {
   "cell_type": "markdown",
   "id": "6bb957a0",
   "metadata": {},
   "source": [
    "**Analyse extreme values on systolic pressure visually via Box plot:**"
   ]
  },
  {
   "cell_type": "code",
   "execution_count": 313,
   "id": "7225d6af",
   "metadata": {},
   "outputs": [
    {
     "data": {
      "image/png": "[encoded data removed]",
      "text/plain": [
       "<Figure size 1000x400 with 2 Axes>"
      ]
     },
     "metadata": {},
     "output_type": "display_data"
    }
   ],
   "source": [
    "# Set the figure size\n",
    "plt.figure(figsize=(10, 4))\n",
    "\n",
    "# Create the first boxplot for ap_hi\n",
    "plt.subplot(1, 2, 1)  # 1 row, 2 columns, first subplot\n",
    "sns.boxplot(x=\"ap_hi\", data=df)\n",
    "plt.title('Systolic Blood Pressure (ap_hi)', color=\"r\", fontsize=12)\n",
    "\n",
    "# Create the second boxplot for ap_lo\n",
    "plt.subplot(1, 2, 2)  # 1 row, 2 columns, second subplot\n",
    "sns.boxplot(x=\"ap_lo\", data=df)\n",
    "plt.title('Diastolic Blood Pressure (ap_lo)', color=\"r\", fontsize=12)\n",
    "\n",
    "# Add a main title\n",
    "plt.suptitle('Boxplots of Blood Pressure Before Handling Potential Outliers', color=\"b\", fontsize=14)\n",
    "\n",
    "# Adjust layout for better spacing\n",
    "plt.tight_layout()\n",
    "plt.subplots_adjust(top=0.85)  # Adjust the top to accommodate the main title\n",
    "\n",
    "# Display the plot\n",
    "plt.show()"
   ]
  },
  {
   "cell_type": "markdown",
   "id": "8902cb1e",
   "metadata": {},
   "source": [
    "**Accordance with the Domain Knowledge obtained, handle unrealistic values for systolic blood pressure:**"
   ]
  },
  {
   "cell_type": "code",
   "execution_count": 315,
   "id": "9b1ee931",
   "metadata": {},
   "outputs": [],
   "source": [
    "df = df[(df['ap_hi'] < 300) & (df['ap_hi'] > 0)]"
   ]
  },
  {
   "cell_type": "code",
   "execution_count": 317,
   "id": "20bebc75",
   "metadata": {},
   "outputs": [],
   "source": [
    "df = df[(df['ap_lo'] < 250) & (df['ap_lo'] > 0)]"
   ]
  },
  {
   "cell_type": "markdown",
   "id": "d39538ec",
   "metadata": {},
   "source": [
    "**🤔 DOMAIN KNOWLEDGE ABOUT DIASTOLIC BLOOD PRESSURE:**\n",
    "\n",
    "...in September 2021, the highest recorded blood pressure in a person was reportedly 370/360 mmHg. This extreme blood pressure measurement was recorded in a man named Valentin Lupei in 1953. Valentin Lupei was a Romanian man who experienced a severe hypertensive crisis...[Source](https://pubmed.ncbi.nlm.nih.gov/7741618/#:~:text=The%20highest%20pressure%20recorded%20in,maximal%20lifting%20with%20slow%20exhalation.) [Source](https://www.quora.com/What-is-the-highest-blood-pressure-level-ever-measured-in-a-person)"
   ]
  },
  {
   "cell_type": "code",
   "execution_count": 319,
   "id": "cfa90695",
   "metadata": {},
   "outputs": [
    {
     "data": {
      "image/png": "[encoded data removed]",
      "text/plain": [
       "<Figure size 1000x400 with 2 Axes>"
      ]
     },
     "metadata": {},
     "output_type": "display_data"
    }
   ],
   "source": [
    "# Set the figure size\n",
    "plt.figure(figsize=(10, 4))\n",
    "\n",
    "# Create the first boxplot for ap_hi\n",
    "plt.subplot(1, 2, 1)  # 1 row, 2 columns, first subplot\n",
    "sns.boxplot(x=\"ap_hi\", data=df)\n",
    "plt.title('Systolic Blood Pressure (ap_hi)', color=\"r\", fontsize=12)\n",
    "\n",
    "# Create the second boxplot for ap_lo\n",
    "plt.subplot(1, 2, 2)  # 1 row, 2 columns, second subplot\n",
    "sns.boxplot(x=\"ap_lo\", data=df)\n",
    "plt.title('Diastolic Blood Pressure (ap_lo)', color=\"r\", fontsize=12)\n",
    "\n",
    "# Add a main title\n",
    "plt.suptitle('Boxplots of Blood Pressure Before Handling Potential Outliers', color=\"b\", fontsize=14)\n",
    "\n",
    "# Adjust layout for better spacing\n",
    "plt.tight_layout()\n",
    "plt.subplots_adjust(top=0.85)  # Adjust the top to accommodate the main title\n",
    "\n",
    "# Display the plot\n",
    "plt.show()"
   ]
  },
  {
   "cell_type": "code",
   "execution_count": 320,
   "id": "c2c3c21f",
   "metadata": {},
   "outputs": [
    {
     "data": {
      "text/html": [
       "<div>\n",
       "<style scoped>\n",
       "    .dataframe tbody tr th:only-of-type {\n",
       "        vertical-align: middle;\n",
       "    }\n",
       "\n",
       "    .dataframe tbody tr th {\n",
       "        vertical-align: top;\n",
       "    }\n",
       "\n",
       "    .dataframe thead th {\n",
       "        text-align: right;\n",
       "    }\n",
       "</style>\n",
       "<table border=\"1\" class=\"dataframe\">\n",
       "  <thead>\n",
       "    <tr style=\"text-align: right;\">\n",
       "      <th></th>\n",
       "      <th>age</th>\n",
       "      <th>gender</th>\n",
       "      <th>height</th>\n",
       "      <th>weight</th>\n",
       "      <th>ap_hi</th>\n",
       "      <th>ap_lo</th>\n",
       "      <th>cholesterol</th>\n",
       "      <th>gluc</th>\n",
       "      <th>smoke</th>\n",
       "      <th>alco</th>\n",
       "      <th>active</th>\n",
       "      <th>cardio</th>\n",
       "    </tr>\n",
       "  </thead>\n",
       "  <tbody>\n",
       "    <tr>\n",
       "      <th>count</th>\n",
       "      <td>488.000000</td>\n",
       "      <td>488.000000</td>\n",
       "      <td>488.000000</td>\n",
       "      <td>488.000000</td>\n",
       "      <td>488.000000</td>\n",
       "      <td>488.00000</td>\n",
       "      <td>488.000000</td>\n",
       "      <td>488.000000</td>\n",
       "      <td>488.000000</td>\n",
       "      <td>488.000000</td>\n",
       "      <td>488.000000</td>\n",
       "      <td>488.000000</td>\n",
       "    </tr>\n",
       "    <tr>\n",
       "      <th>mean</th>\n",
       "      <td>53.361086</td>\n",
       "      <td>1.366803</td>\n",
       "      <td>164.809426</td>\n",
       "      <td>74.060861</td>\n",
       "      <td>126.288934</td>\n",
       "      <td>80.67418</td>\n",
       "      <td>1.334016</td>\n",
       "      <td>1.186475</td>\n",
       "      <td>0.077869</td>\n",
       "      <td>0.047131</td>\n",
       "      <td>0.764344</td>\n",
       "      <td>0.483607</td>\n",
       "    </tr>\n",
       "    <tr>\n",
       "      <th>std</th>\n",
       "      <td>6.697971</td>\n",
       "      <td>0.482427</td>\n",
       "      <td>8.025278</td>\n",
       "      <td>14.363246</td>\n",
       "      <td>17.540932</td>\n",
       "      <td>9.28769</td>\n",
       "      <td>0.648098</td>\n",
       "      <td>0.532382</td>\n",
       "      <td>0.268240</td>\n",
       "      <td>0.212137</td>\n",
       "      <td>0.424843</td>\n",
       "      <td>0.500244</td>\n",
       "    </tr>\n",
       "    <tr>\n",
       "      <th>min</th>\n",
       "      <td>39.230000</td>\n",
       "      <td>1.000000</td>\n",
       "      <td>144.000000</td>\n",
       "      <td>43.000000</td>\n",
       "      <td>12.000000</td>\n",
       "      <td>50.00000</td>\n",
       "      <td>1.000000</td>\n",
       "      <td>1.000000</td>\n",
       "      <td>0.000000</td>\n",
       "      <td>0.000000</td>\n",
       "      <td>0.000000</td>\n",
       "      <td>0.000000</td>\n",
       "    </tr>\n",
       "    <tr>\n",
       "      <th>25%</th>\n",
       "      <td>48.827500</td>\n",
       "      <td>1.000000</td>\n",
       "      <td>159.000000</td>\n",
       "      <td>65.000000</td>\n",
       "      <td>120.000000</td>\n",
       "      <td>80.00000</td>\n",
       "      <td>1.000000</td>\n",
       "      <td>1.000000</td>\n",
       "      <td>0.000000</td>\n",
       "      <td>0.000000</td>\n",
       "      <td>1.000000</td>\n",
       "      <td>0.000000</td>\n",
       "    </tr>\n",
       "    <tr>\n",
       "      <th>50%</th>\n",
       "      <td>53.895000</td>\n",
       "      <td>1.000000</td>\n",
       "      <td>165.000000</td>\n",
       "      <td>72.000000</td>\n",
       "      <td>120.000000</td>\n",
       "      <td>80.00000</td>\n",
       "      <td>1.000000</td>\n",
       "      <td>1.000000</td>\n",
       "      <td>0.000000</td>\n",
       "      <td>0.000000</td>\n",
       "      <td>1.000000</td>\n",
       "      <td>0.000000</td>\n",
       "    </tr>\n",
       "    <tr>\n",
       "      <th>75%</th>\n",
       "      <td>58.492500</td>\n",
       "      <td>2.000000</td>\n",
       "      <td>170.000000</td>\n",
       "      <td>80.000000</td>\n",
       "      <td>140.000000</td>\n",
       "      <td>81.00000</td>\n",
       "      <td>1.000000</td>\n",
       "      <td>1.000000</td>\n",
       "      <td>0.000000</td>\n",
       "      <td>0.000000</td>\n",
       "      <td>1.000000</td>\n",
       "      <td>1.000000</td>\n",
       "    </tr>\n",
       "    <tr>\n",
       "      <th>max</th>\n",
       "      <td>64.850000</td>\n",
       "      <td>2.000000</td>\n",
       "      <td>198.000000</td>\n",
       "      <td>160.000000</td>\n",
       "      <td>180.000000</td>\n",
       "      <td>120.00000</td>\n",
       "      <td>3.000000</td>\n",
       "      <td>3.000000</td>\n",
       "      <td>1.000000</td>\n",
       "      <td>1.000000</td>\n",
       "      <td>1.000000</td>\n",
       "      <td>1.000000</td>\n",
       "    </tr>\n",
       "  </tbody>\n",
       "</table>\n",
       "</div>"
      ],
      "text/plain": [
       "              age      gender      height      weight       ap_hi      ap_lo  \\\n",
       "count  488.000000  488.000000  488.000000  488.000000  488.000000  488.00000   \n",
       "mean    53.361086    1.366803  164.809426   74.060861  126.288934   80.67418   \n",
       "std      6.697971    0.482427    8.025278   14.363246   17.540932    9.28769   \n",
       "min     39.230000    1.000000  144.000000   43.000000   12.000000   50.00000   \n",
       "25%     48.827500    1.000000  159.000000   65.000000  120.000000   80.00000   \n",
       "50%     53.895000    1.000000  165.000000   72.000000  120.000000   80.00000   \n",
       "75%     58.492500    2.000000  170.000000   80.000000  140.000000   81.00000   \n",
       "max     64.850000    2.000000  198.000000  160.000000  180.000000  120.00000   \n",
       "\n",
       "       cholesterol        gluc       smoke        alco      active      cardio  \n",
       "count   488.000000  488.000000  488.000000  488.000000  488.000000  488.000000  \n",
       "mean      1.334016    1.186475    0.077869    0.047131    0.764344    0.483607  \n",
       "std       0.648098    0.532382    0.268240    0.212137    0.424843    0.500244  \n",
       "min       1.000000    1.000000    0.000000    0.000000    0.000000    0.000000  \n",
       "25%       1.000000    1.000000    0.000000    0.000000    1.000000    0.000000  \n",
       "50%       1.000000    1.000000    0.000000    0.000000    1.000000    0.000000  \n",
       "75%       1.000000    1.000000    0.000000    0.000000    1.000000    1.000000  \n",
       "max       3.000000    3.000000    1.000000    1.000000    1.000000    1.000000  "
      ]
     },
     "execution_count": 320,
     "metadata": {},
     "output_type": "execute_result"
    }
   ],
   "source": [
    "df.describe()"
   ]
  },
  {
   "cell_type": "markdown",
   "id": "0841e6a6",
   "metadata": {},
   "source": [
    "## <p style=\"background-color:#58B8E4; font-family:newtimeroman; color:#FFF9ED; font-size:175%; text-align:center; border-radius:10px 10px;\">TASKS</p>"
   ]
  },
  {
   "cell_type": "markdown",
   "id": "eba8d16f",
   "metadata": {},
   "source": [
    "#### <p style=\"background-color:#8CCED1; font-family:newtimeroman; color:#635EA7; font-size:175%; text-align:left; border-radius:10px 10px;\">Task-1. Is the Systolic blood pressure population mean 122mmhg?</p>"
   ]
  },
  {
   "cell_type": "markdown",
   "id": "604a6bbe",
   "metadata": {
    "id": "604a6bbe"
   },
   "source": [
    "**🤔 DOMAIN KNOWLEDGE: What is ABOUT Systolic Blood Pressure (ap_hi):**\n",
    "\n",
    "ap_hi => It's the Systolic blood pressure i.e. Pressure exerted when Blood is ejected in arteries.<br>\n",
    "Normal value : 122 mm Hg for all adults aged 18 and over."
   ]
  },
  {
   "cell_type": "markdown",
   "id": "bb6ca4cf",
   "metadata": {
    "id": "bb6ca4cf"
   },
   "source": [
    "### ⭐ <span style=\"color:#49519E\">What is the mean for Systolic blood pressure?<span>"
   ]
  },
  {
   "cell_type": "code",
   "execution_count": 331,
   "id": "c9f4d365",
   "metadata": {},
   "outputs": [
    {
     "data": {
      "text/plain": [
       "126.2889344262295"
      ]
     },
     "execution_count": 331,
     "metadata": {},
     "output_type": "execute_result"
    }
   ],
   "source": [
    "df.ap_hi.mean()"
   ]
  },
  {
   "cell_type": "markdown",
   "id": "KX4IjRriZzAi",
   "metadata": {
    "id": "KX4IjRriZzAi"
   },
   "source": [
    "### ⭐ <span style=\"color:#49519E\">What is the std dev. for Systolic blood pressure?<span>"
   ]
  },
  {
   "cell_type": "code",
   "execution_count": 334,
   "id": "4d52409f",
   "metadata": {},
   "outputs": [
    {
     "data": {
      "text/plain": [
       "17.54093249003375"
      ]
     },
     "execution_count": 334,
     "metadata": {},
     "output_type": "execute_result"
    }
   ],
   "source": [
    "df.ap_hi.std()"
   ]
  },
  {
   "cell_type": "markdown",
   "id": "uUV8XmvbZ2aI",
   "metadata": {
    "id": "uUV8XmvbZ2aI"
   },
   "source": [
    "### ⭐ <span style=\"color:#49519E\">What is the standard error of the mean for Systolic blood pressure?<span>"
   ]
  },
  {
   "cell_type": "code",
   "execution_count": 337,
   "id": "3713ad01",
   "metadata": {},
   "outputs": [
    {
     "data": {
      "text/plain": [
       "0.7940407046333289"
      ]
     },
     "execution_count": 337,
     "metadata": {},
     "output_type": "execute_result"
    }
   ],
   "source": [
    "df.ap_hi.sem()"
   ]
  },
  {
   "cell_type": "markdown",
   "id": "hDiz0Xf6KRt7",
   "metadata": {
    "id": "hDiz0Xf6KRt7"
   },
   "source": [
    "### ⭐ <span style=\"color:#49519E\">What is the short way to calculate  descriptive statistics in  for Systolic blood pressure?<span>"
   ]
  },
  {
   "cell_type": "code",
   "execution_count": 340,
   "id": "7265fdb8",
   "metadata": {},
   "outputs": [
    {
     "data": {
      "text/plain": [
       "count    488.000000\n",
       "mean     126.288934\n",
       "std       17.540932\n",
       "min       12.000000\n",
       "25%      120.000000\n",
       "50%      120.000000\n",
       "75%      140.000000\n",
       "max      180.000000\n",
       "Name: ap_hi, dtype: float64"
      ]
     },
     "execution_count": 340,
     "metadata": {},
     "output_type": "execute_result"
    }
   ],
   "source": [
    "df.ap_hi.describe()"
   ]
  },
  {
   "cell_type": "markdown",
   "id": "70b4dcd2",
   "metadata": {
    "id": "70b4dcd2"
   },
   "source": [
    "<!-- ## <span style=\"color:#49519E\">👉 SUB-TASK: Calculating Confidence Interval using the t Distribution<span> -->\n",
    "    \n",
    "### <p style=\"background-color:#58B8E4; font-family:newtimeroman; color:#FFF9ED; font-size:150%; text-align:center; border-radius:10px 10px;\">👉 SUB-TASK: Calculate the Confidence Interval using the t Distribution:</p>\n",
    "    \n",
    "**<u>🚀 Key Notes about Confidence Intervals:</u>**\n",
    "\n",
    "  - 💡 A point estimate is a single number.\n",
    "\n",
    "  - 💡 A confidence interval, naturally, is an interval.\n",
    "\n",
    "  - 💡 Confidence intervals are the typical way to present estimates as an interval range.\n",
    "\n",
    "  - 💡 The point estimate is located exactly in the middle of the confidence interval.\n",
    "\n",
    "  - 💡 However, confidence intervals provide much more information and are preferred when making inferences.\n",
    "\n",
    "  - 💡 The more data you have, the less variable a sample estimate will be.\n",
    "\n",
    "  - 💡 The lower the level of confidence you can tolerate, the narrower the confidence interval will be.\n",
    "\n",
    "### ⭐ <span style=\"color:#49519E\">Investigate the given task by calculating the confidence interval. (Use 90%, 95% and 99% CIs):<span>"
   ]
  },
  {
   "cell_type": "code",
   "execution_count": 343,
   "id": "93c89bad",
   "metadata": {},
   "outputs": [
    {
     "data": {
      "text/plain": [
       "(124.72876584967166, 127.84910300278734)"
      ]
     },
     "execution_count": 343,
     "metadata": {},
     "output_type": "execute_result"
    }
   ],
   "source": [
    "confidence_interval = stats.t.interval(0.95,                     # Confidence level (95%)\n",
    "                                       len(df.ap_hi) - 1,        # Degrees of freedom (n-1)\n",
    "                                       loc=df.ap_hi.mean(),      # Mean of ap_hi\n",
    "                                       scale=df.ap_hi.sem())     # Standard error of the mean\n",
    "\n",
    "confidence_interval"
   ]
  },
  {
   "cell_type": "markdown",
   "id": "b8ea993c",
   "metadata": {
    "id": "b8ea993c"
   },
   "source": [
    "<!-- ## <span style=\"color:#49519E\">👉 SUB-TASK: Conducting One Sample t Test<span> -->\n",
    "    \n",
    "### <p style=\"background-color:#58B8E4; font-family:newtimeroman; color:#FFF9ED; font-size:150%; text-align:center; border-radius:10px 10px;\">👉 SUB-TASK: Conduct One Sample t Test:</p>\n"
   ]
  },
  {
   "cell_type": "markdown",
   "id": "3b0b1513",
   "metadata": {
    "id": "3b0b1513"
   },
   "source": [
    "### ⭐ <span style=\"color:#49519E\">Investigate the given task by conducting One Sample t Test:<span>\n",
    "\n",
    "**<u>🚀 Key Notes about Hypothesis Testing (Significance Testing):</u>**\n",
    "\n",
    "  - 💡 Assumptions\n",
    "\n",
    "  - 💡 Null and Alternative Hypothesis\n",
    "\n",
    "  - 💡 Test Statistic\n",
    "\n",
    "  - 💡 P-value\n",
    "\n",
    "  - 💡 Conclusion\n",
    "    \n",
    "**🚀 HINT:Use scipy.stats.ttest_1samp**"
   ]
  },
  {
   "cell_type": "markdown",
   "id": "815c7c17",
   "metadata": {
    "id": "815c7c17"
   },
   "source": [
    "### ⭐ <span style=\"color:#49519E\">STEP 1: State the Null (H0) & Alternative (Ha) Hypotheses:<span>"
   ]
  },
  {
   "cell_type": "raw",
   "id": "27bca619",
   "metadata": {},
   "source": [
    "Null Hypothesis (H₀): H0: µ = 122 \n",
    "The average systolic blood pressure (ap_hi) of the population is equal to 122.\n",
    "\n",
    "Alternative Hypothesis (H₁): H1: µ > 122 \n",
    "The average systolic blood pressure (ap_hi) of the population is greater than 122."
   ]
  },
  {
   "cell_type": "markdown",
   "id": "76e2140e",
   "metadata": {},
   "source": [
    "### ⭐ <span style=\"color:#49519E\">STEP 2: Calculate Test Statistics:<span>"
   ]
  },
  {
   "cell_type": "code",
   "execution_count": 349,
   "id": "bc06378f",
   "metadata": {},
   "outputs": [
    {
     "data": {
      "text/plain": [
       "TtestResult(statistic=5.4014037330870135, pvalue=1.0358934541616904e-07, df=487)"
      ]
     },
     "execution_count": 349,
     "metadata": {},
     "output_type": "execute_result"
    }
   ],
   "source": [
    "oneSamp = stats.ttest_1samp(df.ap_hi, 122)\n",
    "oneSamp"
   ]
  },
  {
   "cell_type": "code",
   "execution_count": 351,
   "id": "bbe64add-ade2-4324-9d5d-53ff05c2c674",
   "metadata": {},
   "outputs": [
    {
     "data": {
      "text/plain": [
       "5.4014037330870135"
      ]
     },
     "execution_count": 351,
     "metadata": {},
     "output_type": "execute_result"
    }
   ],
   "source": [
    "oneSamp.statistic"
   ]
  },
  {
   "cell_type": "markdown",
   "id": "4d04d1dc",
   "metadata": {},
   "source": [
    "### ⭐ <span style=\"color:#49519E\">STEP 3: Calculate P-Value:<span>"
   ]
  },
  {
   "cell_type": "code",
   "execution_count": 354,
   "id": "15755cbe",
   "metadata": {},
   "outputs": [
    {
     "data": {
      "text/plain": [
       "1.0358934541616904e-07"
      ]
     },
     "execution_count": 354,
     "metadata": {},
     "output_type": "execute_result"
    }
   ],
   "source": [
    "oneSamp.pvalue"
   ]
  },
  {
   "cell_type": "markdown",
   "id": "71eb2788",
   "metadata": {},
   "source": [
    "### ⭐ <span style=\"color:#49519E\">STEP 4: Make a Decision:<span>"
   ]
  },
  {
   "cell_type": "code",
   "execution_count": 357,
   "id": "b361a0c9",
   "metadata": {},
   "outputs": [
    {
     "name": "stdout",
     "output_type": "stream",
     "text": [
      "At 0.05 level of significance, we can reject the null hypothesis in favor of alternative hypothesis.\n"
     ]
    }
   ],
   "source": [
    "alpha = 0.05\n",
    "\n",
    "if oneSamp.pvalue < alpha:\n",
    "    print('At {} level of significance, we can reject the null hypothesis in favor of alternative hypothesis.'.format(alpha))\n",
    "else:\n",
    "    print('At {} level of significance, we fail to reject the null hypothesis.'.format(alpha))"
   ]
  },
  {
   "cell_type": "markdown",
   "id": "e273e0c2",
   "metadata": {
    "id": "e273e0c2"
   },
   "source": [
    "#### <p style=\"background-color:#8CCED1; font-family:newtimeroman; color:#635EA7; font-size:175%; text-align:left; border-radius:10px 10px;\">Task-2. Is There a Significant Difference Between Males and Females in Systolic Blood Pressure?</p>"
   ]
  },
  {
   "cell_type": "markdown",
   "id": "a6872857",
   "metadata": {},
   "source": [
    "### ⭐ <span style=\"color:#49519E\">State the Null (H0) & Alternative (Ha) Hypotheses:<span>"
   ]
  },
  {
   "cell_type": "raw",
   "id": "b1e664d6",
   "metadata": {},
   "source": [
    "Null Hypothesis (H0): H0: µ1 = µ2 (\"the two population means are equal\")\n",
    "There is NO difference in mean systolic blood pressure between men and women (μ_men = μ_women).\n",
    "\n",
    "Alternative Hypothesis (H1): H1: µ1 ≠ µ2 (\"the two population means are not equal\")\n",
    "There is a difference in mean systolic blood pressure between men and women (μ_men ≠ μ_women)."
   ]
  },
  {
   "cell_type": "markdown",
   "id": "f924f82e",
   "metadata": {
    "id": "f924f82e"
   },
   "source": [
    "### ⭐ <span style=\"color:#49519E\">Show descriptive statistics for 2 groups:<span>"
   ]
  },
  {
   "cell_type": "code",
   "execution_count": 362,
   "id": "5aff63a4",
   "metadata": {},
   "outputs": [
    {
     "data": {
      "text/html": [
       "<div>\n",
       "<style scoped>\n",
       "    .dataframe tbody tr th:only-of-type {\n",
       "        vertical-align: middle;\n",
       "    }\n",
       "\n",
       "    .dataframe tbody tr th {\n",
       "        vertical-align: top;\n",
       "    }\n",
       "\n",
       "    .dataframe thead th {\n",
       "        text-align: right;\n",
       "    }\n",
       "</style>\n",
       "<table border=\"1\" class=\"dataframe\">\n",
       "  <thead>\n",
       "    <tr style=\"text-align: right;\">\n",
       "      <th></th>\n",
       "      <th>count</th>\n",
       "      <th>mean</th>\n",
       "      <th>std</th>\n",
       "      <th>min</th>\n",
       "      <th>25%</th>\n",
       "      <th>50%</th>\n",
       "      <th>75%</th>\n",
       "      <th>max</th>\n",
       "    </tr>\n",
       "    <tr>\n",
       "      <th>gender</th>\n",
       "      <th></th>\n",
       "      <th></th>\n",
       "      <th></th>\n",
       "      <th></th>\n",
       "      <th></th>\n",
       "      <th></th>\n",
       "      <th></th>\n",
       "      <th></th>\n",
       "    </tr>\n",
       "  </thead>\n",
       "  <tbody>\n",
       "    <tr>\n",
       "      <th>1</th>\n",
       "      <td>309.0</td>\n",
       "      <td>125.288026</td>\n",
       "      <td>18.360333</td>\n",
       "      <td>12.0</td>\n",
       "      <td>120.0</td>\n",
       "      <td>120.0</td>\n",
       "      <td>130.0</td>\n",
       "      <td>180.0</td>\n",
       "    </tr>\n",
       "    <tr>\n",
       "      <th>2</th>\n",
       "      <td>179.0</td>\n",
       "      <td>128.016760</td>\n",
       "      <td>15.930141</td>\n",
       "      <td>90.0</td>\n",
       "      <td>120.0</td>\n",
       "      <td>120.0</td>\n",
       "      <td>140.0</td>\n",
       "      <td>180.0</td>\n",
       "    </tr>\n",
       "  </tbody>\n",
       "</table>\n",
       "</div>"
      ],
      "text/plain": [
       "        count        mean        std   min    25%    50%    75%    max\n",
       "gender                                                                \n",
       "1       309.0  125.288026  18.360333  12.0  120.0  120.0  130.0  180.0\n",
       "2       179.0  128.016760  15.930141  90.0  120.0  120.0  140.0  180.0"
      ]
     },
     "execution_count": 362,
     "metadata": {},
     "output_type": "execute_result"
    }
   ],
   "source": [
    "df.groupby(\"gender\").describe()[\"ap_hi\"]"
   ]
  },
  {
   "cell_type": "markdown",
   "id": "84bd1c6e",
   "metadata": {
    "id": "84bd1c6e"
   },
   "source": [
    "### ⭐ <span style=\"color:#49519E\">Test the assumption of homogeneity of variance. State the Null (H0) & Alternative (Ha) Hypotheses for the assumption of homogeneity of variance:<span>\n",
    "\n",
    "**🚀 Hint: Levene’s Test**"
   ]
  },
  {
   "cell_type": "markdown",
   "id": "8623191d",
   "metadata": {},
   "source": [
    "**STEP 1: The Hypotheses for Levene’s Test are:**"
   ]
  },
  {
   "cell_type": "raw",
   "id": "3d0a8225",
   "metadata": {},
   "source": [
    "Levene's Test Hypothesis:\n",
    "\n",
    "H0: The population variances of group 1 and 2 are equal.\n",
    "H1: There is a difference between the variances of group 1 and 2 in the population."
   ]
  },
  {
   "cell_type": "markdown",
   "id": "671de929",
   "metadata": {},
   "source": [
    "**STEP 2: Calculating Test Statistics for Levene’s Test:**"
   ]
  },
  {
   "cell_type": "code",
   "execution_count": 367,
   "id": "293d5387",
   "metadata": {},
   "outputs": [
    {
     "name": "stdout",
     "output_type": "stream",
     "text": [
      "Statistics=0.105\n"
     ]
    }
   ],
   "source": [
    "stat, p = stats.levene(df[df[\"gender\"]==1][\"ap_hi\"], df[df[\"gender\"]==2][\"ap_hi\"])\n",
    "\n",
    "print('Statistics=%.3f' % stat)"
   ]
  },
  {
   "cell_type": "markdown",
   "id": "a691e9e3",
   "metadata": {},
   "source": [
    "**STEP 3: Calculaing P-Value for Levene’s Test:**"
   ]
  },
  {
   "cell_type": "code",
   "execution_count": 370,
   "id": "df2f581b",
   "metadata": {},
   "outputs": [
    {
     "name": "stdout",
     "output_type": "stream",
     "text": [
      "P-Value=0.747\n"
     ]
    }
   ],
   "source": [
    "stat, p = stats.levene(df[df[\"gender\"]==1][\"ap_hi\"], df[df[\"gender\"]==2][\"ap_hi\"])\n",
    "\n",
    "print('P-Value=%.3f' % p)"
   ]
  },
  {
   "cell_type": "markdown",
   "id": "49ac469d",
   "metadata": {},
   "source": [
    "**STEP 4: Making a Decision for Levene’s Test:**"
   ]
  },
  {
   "cell_type": "code",
   "execution_count": 373,
   "id": "78e2c589",
   "metadata": {},
   "outputs": [
    {
     "name": "stdout",
     "output_type": "stream",
     "text": [
      "The population variances of group 1 and 2 are equal (fail to reject H0)\n"
     ]
    }
   ],
   "source": [
    "alpha = 0.05\n",
    "if p > alpha:\n",
    "    print('The population variances of group 1 and 2 are equal (fail to reject H0)')\n",
    "else:\n",
    "    print('The population variances of group 1 and 2 are not equal (reject H0)')"
   ]
  },
  {
   "cell_type": "markdown",
   "id": "da0b3968",
   "metadata": {},
   "source": [
    "### ⭐ <span style=\"color:#49519E\">Conduct the significance test:<span>\n",
    "    \n",
    "**🚀 Hint: Use scipy.stats.ttest_ind**"
   ]
  },
  {
   "cell_type": "markdown",
   "id": "2490fc0f",
   "metadata": {},
   "source": [
    "**STEP 1: The Hypotheses for t Test are:**"
   ]
  },
  {
   "cell_type": "raw",
   "id": "851ca12f",
   "metadata": {},
   "source": [
    "indTest = stats.ttest_ind(df[df[\"gender\"]==1][\"ap_hi\"], df[df[\"gender\"]==2][\"ap_hi\"], equal_var=True)\n",
    "indTest"
   ]
  },
  {
   "cell_type": "markdown",
   "id": "255200c2",
   "metadata": {},
   "source": [
    "**STEP 2: Calculating t Test Statistics:**"
   ]
  },
  {
   "cell_type": "code",
   "execution_count": 378,
   "id": "e63c571a",
   "metadata": {},
   "outputs": [
    {
     "data": {
      "text/plain": [
       "-1.659145539707629"
      ]
     },
     "execution_count": 378,
     "metadata": {},
     "output_type": "execute_result"
    }
   ],
   "source": [
    "test_statistic = indTest.statistic\n",
    "test_statistic"
   ]
  },
  {
   "cell_type": "markdown",
   "id": "de295c9c",
   "metadata": {},
   "source": [
    "**STEP 3: Calculaing P-Value for t Test:**"
   ]
  },
  {
   "cell_type": "code",
   "execution_count": 381,
   "id": "07e8adb7",
   "metadata": {},
   "outputs": [
    {
     "data": {
      "text/plain": [
       "0.09773160551881045"
      ]
     },
     "execution_count": 381,
     "metadata": {},
     "output_type": "execute_result"
    }
   ],
   "source": [
    "p_value = indTest.pvalue\n",
    "p_value"
   ]
  },
  {
   "cell_type": "markdown",
   "id": "04de28f1",
   "metadata": {},
   "source": [
    "**STEP 4: Making a Decision for t test:**"
   ]
  },
  {
   "cell_type": "code",
   "execution_count": 384,
   "id": "3cc58eb4",
   "metadata": {},
   "outputs": [
    {
     "name": "stdout",
     "output_type": "stream",
     "text": [
      "Fail to reject the Null hypothesis (H0). The two population means are equal.\n"
     ]
    }
   ],
   "source": [
    "alpha = 0.05\n",
    "\n",
    "if indTest.pvalue < alpha:\n",
    "    print(\"Reject the Null Hypothesis (H0) in favor of Alternative Hypothesis. At the α=0.05, we have sufficient evidence to indicate that mean body temperatures differ for men and women.\")\n",
    "else:\n",
    "    print(\"Fail to reject the Null hypothesis (H0). The two population means are equal.\")"
   ]
  },
  {
   "cell_type": "markdown",
   "id": "b649ecf9",
   "metadata": {
    "id": "b649ecf9"
   },
   "source": [
    "#### <p style=\"background-color:#8CCED1; font-family:newtimeroman; color:#635EA7; font-size:175%; text-align:left; border-radius:10px 10px;\">Task-3. Is There a Relationship Between Glucose and Systolic Blood Pressure?</p>"
   ]
  },
  {
   "cell_type": "markdown",
   "id": "iQnNlpE2nXym",
   "metadata": {
    "id": "iQnNlpE2nXym"
   },
   "source": [
    "### ⭐ <span style=\"color:#49519E\">Draw a boxplot to see the relationship between ``glucose`` and ``Systolic blood pressure``:<span>"
   ]
  },
  {
   "cell_type": "code",
   "execution_count": 388,
   "id": "47304d90",
   "metadata": {},
   "outputs": [
    {
     "data": {
      "image/png": "[encoded data removed]",
      "text/plain": [
       "<Figure size 640x480 with 1 Axes>"
      ]
     },
     "metadata": {},
     "output_type": "display_data"
    }
   ],
   "source": [
    "sns.boxplot(x=\"gluc\", y=\"ap_hi\",  data=df);"
   ]
  },
  {
   "cell_type": "markdown",
   "id": "R5W3NypFniN_",
   "metadata": {
    "id": "R5W3NypFniN_"
   },
   "source": [
    "### ⭐ <span style=\"color:#49519E\">Show the descriptive statistics of 3 groups:<span>"
   ]
  },
  {
   "cell_type": "code",
   "execution_count": 391,
   "id": "8939e3df",
   "metadata": {},
   "outputs": [
    {
     "data": {
      "text/html": [
       "<div>\n",
       "<style scoped>\n",
       "    .dataframe tbody tr th:only-of-type {\n",
       "        vertical-align: middle;\n",
       "    }\n",
       "\n",
       "    .dataframe tbody tr th {\n",
       "        vertical-align: top;\n",
       "    }\n",
       "\n",
       "    .dataframe thead th {\n",
       "        text-align: right;\n",
       "    }\n",
       "</style>\n",
       "<table border=\"1\" class=\"dataframe\">\n",
       "  <thead>\n",
       "    <tr style=\"text-align: right;\">\n",
       "      <th></th>\n",
       "      <th>count</th>\n",
       "      <th>mean</th>\n",
       "      <th>std</th>\n",
       "      <th>min</th>\n",
       "      <th>25%</th>\n",
       "      <th>50%</th>\n",
       "      <th>75%</th>\n",
       "      <th>max</th>\n",
       "    </tr>\n",
       "    <tr>\n",
       "      <th>gluc</th>\n",
       "      <th></th>\n",
       "      <th></th>\n",
       "      <th></th>\n",
       "      <th></th>\n",
       "      <th></th>\n",
       "      <th></th>\n",
       "      <th></th>\n",
       "      <th></th>\n",
       "    </tr>\n",
       "  </thead>\n",
       "  <tbody>\n",
       "    <tr>\n",
       "      <th>1</th>\n",
       "      <td>429.0</td>\n",
       "      <td>125.895105</td>\n",
       "      <td>17.643555</td>\n",
       "      <td>12.0</td>\n",
       "      <td>120.0</td>\n",
       "      <td>120.0</td>\n",
       "      <td>140.0</td>\n",
       "      <td>180.0</td>\n",
       "    </tr>\n",
       "    <tr>\n",
       "      <th>2</th>\n",
       "      <td>27.0</td>\n",
       "      <td>131.481481</td>\n",
       "      <td>16.802862</td>\n",
       "      <td>110.0</td>\n",
       "      <td>120.0</td>\n",
       "      <td>130.0</td>\n",
       "      <td>140.0</td>\n",
       "      <td>180.0</td>\n",
       "    </tr>\n",
       "    <tr>\n",
       "      <th>3</th>\n",
       "      <td>32.0</td>\n",
       "      <td>127.187500</td>\n",
       "      <td>16.506963</td>\n",
       "      <td>90.0</td>\n",
       "      <td>120.0</td>\n",
       "      <td>120.0</td>\n",
       "      <td>130.0</td>\n",
       "      <td>170.0</td>\n",
       "    </tr>\n",
       "  </tbody>\n",
       "</table>\n",
       "</div>"
      ],
      "text/plain": [
       "      count        mean        std    min    25%    50%    75%    max\n",
       "gluc                                                                 \n",
       "1     429.0  125.895105  17.643555   12.0  120.0  120.0  140.0  180.0\n",
       "2      27.0  131.481481  16.802862  110.0  120.0  130.0  140.0  180.0\n",
       "3      32.0  127.187500  16.506963   90.0  120.0  120.0  130.0  170.0"
      ]
     },
     "execution_count": 391,
     "metadata": {},
     "output_type": "execute_result"
    }
   ],
   "source": [
    "df.groupby(\"gluc\").describe()[\"ap_hi\"]"
   ]
  },
  {
   "cell_type": "markdown",
   "id": "4eec5989",
   "metadata": {},
   "source": [
    "### ⭐ <span style=\"color:#49519E\">STEP 1: State the Null (H0) & Alternative (Ha) Hypotheses:<span>"
   ]
  },
  {
   "cell_type": "raw",
   "id": "2246ba23",
   "metadata": {},
   "source": [
    "Null Hypothesis (H0): H0: µ1 = µ2 = µ3 = ... = µk (\"all k population means are equal\")\n",
    "There are no differences in systolic blood pressure among the different glucose levels (μ_a = μ_b = μ_c = μ_u).\n",
    "\n",
    "Alternative Hypothesis (H1): H1: At least one µi (glucose levels) different (\"at least one of the k population means is not equal to the others\")\n",
    "At least one group mean is different (μ_a ≠ μ_b ≠ μ_c ≠ μ_u)."
   ]
  },
  {
   "cell_type": "markdown",
   "id": "6vx5akalnpn3",
   "metadata": {
    "id": "6vx5akalnpn3"
   },
   "source": [
    "### ⭐ <span style=\"color:#49519E\">STEP 2: Conduct the relavant Test Statistics to decide if there is a significant difference between the groups:<span>"
   ]
  },
  {
   "cell_type": "code",
   "execution_count": 395,
   "id": "84d34bf7",
   "metadata": {},
   "outputs": [
    {
     "data": {
      "text/plain": [
       "F_onewayResult(statistic=1.3349612801410242, pvalue=0.2641336028455041)"
      ]
     },
     "execution_count": 395,
     "metadata": {},
     "output_type": "execute_result"
    }
   ],
   "source": [
    "anova_test = stats.f_oneway(df[df[\"gluc\"]==1][\"ap_hi\"],\n",
    "                               df[df[\"gluc\"]==2][\"ap_hi\"],\n",
    "                               df[df[\"gluc\"]==3][\"ap_hi\"])\n",
    "\n",
    "anova_test"
   ]
  },
  {
   "cell_type": "markdown",
   "id": "4dee5a08",
   "metadata": {},
   "source": [
    "### ⭐ <span style=\"color:#49519E\">STEP 3: Calculate P-Value:<span>"
   ]
  },
  {
   "cell_type": "code",
   "execution_count": 398,
   "id": "bbdc0280",
   "metadata": {},
   "outputs": [
    {
     "data": {
      "text/plain": [
       "0.2641336028455041"
      ]
     },
     "execution_count": 398,
     "metadata": {},
     "output_type": "execute_result"
    }
   ],
   "source": [
    "anova_test[1]"
   ]
  },
  {
   "cell_type": "markdown",
   "id": "c2f03be0",
   "metadata": {},
   "source": [
    "### ⭐ <span style=\"color:#49519E\">STEP 4: Make a Decision:<span>"
   ]
  },
  {
   "cell_type": "code",
   "execution_count": 401,
   "id": "e09e666d",
   "metadata": {},
   "outputs": [
    {
     "name": "stdout",
     "output_type": "stream",
     "text": [
      "At 0.05 level of significance, we fail to reject the Null hypothesis.\n"
     ]
    }
   ],
   "source": [
    "alpha = 0.05\n",
    "\n",
    "if anova_test.pvalue < alpha:\n",
    "    print('At {} level of significance, we can reject the Null hypothesis (H0) in favor of Alternative hypothesis (H1) \\nand conclude that the differences among group means (at least one group) are statistically significant.'.format(alpha))\n",
    "else:\n",
    "    print('At {} level of significance, we fail to reject the Null hypothesis.'.format(alpha))"
   ]
  },
  {
   "cell_type": "markdown",
   "id": "d128793f",
   "metadata": {
    "id": "d128793f"
   },
   "source": [
    "#### <p style=\"background-color:#8CCED1; font-family:newtimeroman; color:#635EA7; font-size:175%; text-align:left; border-radius:10px 10px;\">Task-4.1. Is There a Relationship Between Physical activity vs. Presence or absence of cardiovascular disease?</p>"
   ]
  },
  {
   "cell_type": "markdown",
   "id": "9d0cbaf7",
   "metadata": {
    "id": "9d0cbaf7"
   },
   "source": [
    "### Physical activity vs. Presence or absence of cardiovascular disease"
   ]
  },
  {
   "cell_type": "markdown",
   "id": "QfsEEewCadVd",
   "metadata": {
    "id": "QfsEEewCadVd"
   },
   "source": [
    "### ⭐ <span style=\"color:#49519E\">Create a crosstab using Pandas:<span>"
   ]
  },
  {
   "cell_type": "code",
   "execution_count": 406,
   "id": "ff2e028d",
   "metadata": {},
   "outputs": [
    {
     "data": {
      "text/html": [
       "<div>\n",
       "<style scoped>\n",
       "    .dataframe tbody tr th:only-of-type {\n",
       "        vertical-align: middle;\n",
       "    }\n",
       "\n",
       "    .dataframe tbody tr th {\n",
       "        vertical-align: top;\n",
       "    }\n",
       "\n",
       "    .dataframe thead th {\n",
       "        text-align: right;\n",
       "    }\n",
       "</style>\n",
       "<table border=\"1\" class=\"dataframe\">\n",
       "  <thead>\n",
       "    <tr style=\"text-align: right;\">\n",
       "      <th>cardio</th>\n",
       "      <th>0</th>\n",
       "      <th>1</th>\n",
       "    </tr>\n",
       "    <tr>\n",
       "      <th>active</th>\n",
       "      <th></th>\n",
       "      <th></th>\n",
       "    </tr>\n",
       "  </thead>\n",
       "  <tbody>\n",
       "    <tr>\n",
       "      <th>0</th>\n",
       "      <td>55</td>\n",
       "      <td>60</td>\n",
       "    </tr>\n",
       "    <tr>\n",
       "      <th>1</th>\n",
       "      <td>197</td>\n",
       "      <td>176</td>\n",
       "    </tr>\n",
       "  </tbody>\n",
       "</table>\n",
       "</div>"
      ],
      "text/plain": [
       "cardio    0    1\n",
       "active          \n",
       "0        55   60\n",
       "1       197  176"
      ]
     },
     "execution_count": 406,
     "metadata": {},
     "output_type": "execute_result"
    }
   ],
   "source": [
    "ct = pd.crosstab(df.active, df.cardio)\n",
    "ct"
   ]
  },
  {
   "cell_type": "markdown",
   "id": "353ac3bc",
   "metadata": {},
   "source": [
    "### ⭐ <span style=\"color:#49519E\">STEP 1: State the Null (H0) & Alternative (Ha) Hypotheses:<span>"
   ]
  },
  {
   "cell_type": "raw",
   "id": "a5da33d1",
   "metadata": {},
   "source": [
    "Ho: The two categorical variables are independent.\n",
    "The two categorical variables (physical activity and presence/absence of cardiovascular disease) are independent.\n",
    "\n",
    "H1: The two categorical variables are dependent.\n",
    "The two categorical variables (physical activity and presence/absence of cardiovascular disease) are dependent."
   ]
  },
  {
   "cell_type": "markdown",
   "id": "BHkX6Cdhn-cU",
   "metadata": {
    "id": "BHkX6Cdhn-cU"
   },
   "source": [
    "### ⭐ <span style=\"color:#49519E\">STEP 2: Conduct chi-square test to see if there is a relationship between 2 categorical variables:<span>"
   ]
  },
  {
   "cell_type": "code",
   "execution_count": 410,
   "id": "9d04099a",
   "metadata": {},
   "outputs": [
    {
     "name": "stdout",
     "output_type": "stream",
     "text": [
      "statistic: 0.6876655564420912\n"
     ]
    }
   ],
   "source": [
    "chi, p, dof, expctd = stats.chi2_contingency(ct)\n",
    "print(\"statistic:\", chi)"
   ]
  },
  {
   "cell_type": "markdown",
   "id": "e65524a7",
   "metadata": {},
   "source": [
    "### ⭐ <span style=\"color:#49519E\">STEP 3: Calculate P-Value:<span>"
   ]
  },
  {
   "cell_type": "code",
   "execution_count": 413,
   "id": "39eeaf31",
   "metadata": {},
   "outputs": [
    {
     "name": "stdout",
     "output_type": "stream",
     "text": [
      "p value: 0.406959548277278\n"
     ]
    }
   ],
   "source": [
    "print(\"p value:\", p)"
   ]
  },
  {
   "cell_type": "markdown",
   "id": "223adb2c",
   "metadata": {},
   "source": [
    "### ⭐ <span style=\"color:#49519E\">STEP 4: Make a Decision:<span>"
   ]
  },
  {
   "cell_type": "code",
   "execution_count": 416,
   "id": "0965e53c",
   "metadata": {},
   "outputs": [
    {
     "name": "stdout",
     "output_type": "stream",
     "text": [
      "stat=0.688, p=0.4070\n",
      "Fail to reject Ho\n"
     ]
    }
   ],
   "source": [
    "print('stat=%.3f, p=%.4f' % (chi, p))\n",
    "if p > 0.05:\n",
    "    print('Fail to reject Ho')\n",
    "else:\n",
    "    print('We reject the null hypothesis. The two categorical variables are dependent')"
   ]
  },
  {
   "cell_type": "markdown",
   "id": "NWNxm6RU8kRp",
   "metadata": {
    "id": "NWNxm6RU8kRp"
   },
   "source": [
    "#### <p style=\"background-color:#8CCED1; font-family:newtimeroman; color:#635EA7; font-size:175%; text-align:left; border-radius:10px 10px;\">Task-4.2. Conduct chi-square test to decide if there is a relationship between Cholesterol and cardio:</p>"
   ]
  },
  {
   "cell_type": "markdown",
   "id": "2aae892d",
   "metadata": {},
   "source": [
    "### ⭐ <span style=\"color:#49519E\">Create a crosstab using Pandas:<span>"
   ]
  },
  {
   "cell_type": "code",
   "execution_count": 420,
   "id": "cb0dc560",
   "metadata": {},
   "outputs": [
    {
     "data": {
      "text/html": [
       "<div>\n",
       "<style scoped>\n",
       "    .dataframe tbody tr th:only-of-type {\n",
       "        vertical-align: middle;\n",
       "    }\n",
       "\n",
       "    .dataframe tbody tr th {\n",
       "        vertical-align: top;\n",
       "    }\n",
       "\n",
       "    .dataframe thead th {\n",
       "        text-align: right;\n",
       "    }\n",
       "</style>\n",
       "<table border=\"1\" class=\"dataframe\">\n",
       "  <thead>\n",
       "    <tr style=\"text-align: right;\">\n",
       "      <th>cardio</th>\n",
       "      <th>0</th>\n",
       "      <th>1</th>\n",
       "    </tr>\n",
       "    <tr>\n",
       "      <th>cholesterol</th>\n",
       "      <th></th>\n",
       "      <th></th>\n",
       "    </tr>\n",
       "  </thead>\n",
       "  <tbody>\n",
       "    <tr>\n",
       "      <th>1</th>\n",
       "      <td>210</td>\n",
       "      <td>163</td>\n",
       "    </tr>\n",
       "    <tr>\n",
       "      <th>2</th>\n",
       "      <td>32</td>\n",
       "      <td>35</td>\n",
       "    </tr>\n",
       "    <tr>\n",
       "      <th>3</th>\n",
       "      <td>10</td>\n",
       "      <td>38</td>\n",
       "    </tr>\n",
       "  </tbody>\n",
       "</table>\n",
       "</div>"
      ],
      "text/plain": [
       "cardio         0    1\n",
       "cholesterol          \n",
       "1            210  163\n",
       "2             32   35\n",
       "3             10   38"
      ]
     },
     "execution_count": 420,
     "metadata": {},
     "output_type": "execute_result"
    }
   ],
   "source": [
    "ct = pd.crosstab(df.cholesterol, df.cardio)\n",
    "ct"
   ]
  },
  {
   "cell_type": "markdown",
   "id": "b5a86bfd",
   "metadata": {},
   "source": [
    "### ⭐ <span style=\"color:#49519E\">STEP 1: State the Null (H0) & Alternative (Ha) Hypotheses:<span>"
   ]
  },
  {
   "cell_type": "raw",
   "id": "b4c4b33e",
   "metadata": {},
   "source": [
    "Ho: The two categorical variables are independent. \n",
    "H1: The two categorical variables are dependent."
   ]
  },
  {
   "cell_type": "markdown",
   "id": "7ef4d447",
   "metadata": {},
   "source": [
    "### ⭐ <span style=\"color:#49519E\">STEP 3: Calculate Test Statistics:<span>"
   ]
  },
  {
   "cell_type": "code",
   "execution_count": 424,
   "id": "f87b5b60",
   "metadata": {},
   "outputs": [
    {
     "name": "stdout",
     "output_type": "stream",
     "text": [
      "statistic: 21.888853614778675\n"
     ]
    }
   ],
   "source": [
    "chi, p, dof, expctd = stats.chi2_contingency(ct)\n",
    "print(\"statistic:\", chi)"
   ]
  },
  {
   "cell_type": "markdown",
   "id": "b0a85a72",
   "metadata": {},
   "source": [
    "### ⭐ <span style=\"color:#49519E\">STEP 3: Calculate P-Value:<span>"
   ]
  },
  {
   "cell_type": "code",
   "execution_count": 427,
   "id": "78f9ec94",
   "metadata": {},
   "outputs": [
    {
     "name": "stdout",
     "output_type": "stream",
     "text": [
      "p value: 1.765614268966816e-05\n"
     ]
    }
   ],
   "source": [
    "print(\"p value:\", p)"
   ]
  },
  {
   "cell_type": "markdown",
   "id": "d8f5b07e",
   "metadata": {},
   "source": [
    "### ⭐ <span style=\"color:#49519E\">STEP 4: Make a Decision:<span>"
   ]
  },
  {
   "cell_type": "code",
   "execution_count": 430,
   "id": "0b793751",
   "metadata": {},
   "outputs": [
    {
     "name": "stdout",
     "output_type": "stream",
     "text": [
      "stat=21.889, p=0.0000\n",
      "We reject the null hypothesis. The two categorical variables are dependent\n"
     ]
    }
   ],
   "source": [
    "print('stat=%.3f, p=%.4f' % (chi, p))\n",
    "if p > 0.05:\n",
    "    print('Fail to reject Ho')\n",
    "else:\n",
    "    print('We reject the null hypothesis. The two categorical variables are dependent')"
   ]
  },
  {
   "cell_type": "markdown",
   "id": "a1cf636f",
   "metadata": {},
   "source": [
    "## <p style=\"background-color:#8CCED1; font-family:newtimeroman; color:#49519E; font-size:150%; text-align:center; border-radius:10px 10px;\">END of the CASE STUDY (Cardiovascular Disease)</p>\n",
    "\n",
    "# Now. it's time to relax!\n",
    "\n",
    "<p style=\"text-align: center;\"> <img src=\"https://i.ibb.co/nQvgZ4W/relaxing-with-book.png\" width=\"800\" height=\"200\"\n",
    "\n",
    "[Image Credit](https://philanthropynw.org/news/ignite-your-passion-positive-change-summer-reading-list)\n",
    "\n",
    "<p style=\"text-align: center;\"><img src=\"https://i.ibb.co/99DQ3TY/DS-Courses.png\" class=\"img-fluid\" \n",
    "alt=\"CLRSWY_Courses\"></p>"
   ]
  },
  {
   "cell_type": "markdown",
   "id": "8850dc7d",
   "metadata": {
    "deletable": false,
    "editable": false
   },
   "source": [
    "<a href=\"https://ondiande.com/contact/\"><img align=\"center\" src=\"https://i.ibb.co/B43qn24/officially-licensed-logo.png\" alt=\"ONDIA Contact\" width=\"110\" height=\"200\" title=\"This notebook is licensed by ONDIA. Please contact the authorized persons about the conditions under which you can use or share.\"></a>"
   ]
  }
 ],
 "metadata": {
  "colab": {
   "provenance": []
  },
  "kernelspec": {
   "display_name": "Python 3 (ipykernel)",
   "language": "python",
   "name": "python3"
  },
  "language_info": {
   "codemirror_mode": {
    "name": "ipython",
    "version": 3
   },
   "file_extension": ".py",
   "mimetype": "text/x-python",
   "name": "python",
   "nbconvert_exporter": "python",
   "pygments_lexer": "ipython3",
   "version": "3.12.4"
  },
  "toc": {
   "base_numbering": "",
   "nav_menu": {},
   "number_sections": false,
   "sideBar": true,
   "skip_h1_title": false,
   "title_cell": "Table of Contents",
   "title_sidebar": "Contents",
   "toc_cell": false,
   "toc_position": {
    "height": "calc(100% - 180px)",
    "left": "10px",
    "top": "150px",
    "width": "307.2px"
   },
   "toc_section_display": true,
   "toc_window_display": true
  },
  "varInspector": {
   "cols": {
    "lenName": 16,
    "lenType": 16,
    "lenVar": 40
   },
   "kernels_config": {
    "python": {
     "delete_cmd_postfix": "",
     "delete_cmd_prefix": "del ",
     "library": "var_list.py",
     "varRefreshCmd": "print(var_dic_list())"
    },
    "r": {
     "delete_cmd_postfix": ") ",
     "delete_cmd_prefix": "rm(",
     "library": "var_list.r",
     "varRefreshCmd": "cat(var_dic_list()) "
    }
   },
   "types_to_exclude": [
    "module",
    "function",
    "builtin_function_or_method",
    "instance",
    "_Feature"
   ],
   "window_display": false
  }
 },
 "nbformat": 4,
 "nbformat_minor": 5
}
